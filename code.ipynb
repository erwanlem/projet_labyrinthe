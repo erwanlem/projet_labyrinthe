{
 "cells": [
  {
   "cell_type": "code",
   "execution_count": 47,
   "id": "a5215f5e",
   "metadata": {
    "slideshow": {
     "slide_type": "skip"
    }
   },
   "outputs": [],
   "source": [
    "from random import randint\n",
    "import numpy as np\n",
    "import pandas as pd\n",
    "import matplotlib.pyplot as plt\n",
    "import time\n",
    "from sys import setrecursionlimit\n",
    "setrecursionlimit(10**6)"
   ]
  },
  {
   "cell_type": "code",
   "execution_count": 37,
   "id": "bcd097e3",
   "metadata": {
    "code_folding": [],
    "slideshow": {
     "slide_type": "skip"
    }
   },
   "outputs": [],
   "source": [
    "def labyrinthe_generator(taille, form=1):\n",
    "    case = []\n",
    "    murs = []\n",
    "    pos = (randint(0, taille[1]-1), randint(0, taille[0]-1))\n",
    "    case = np.zeros((taille[1], taille[0]), dtype='int')\n",
    "    murs = np.ones((taille[1], taille[0], 4), dtype='int') # [h, d, b, g]\n",
    "    generer_labyrinthe(case, murs, pos, pos)\n",
    "    \n",
    "    l = []\n",
    "    for i in range(len(case) * 2 - 1, 0, -1):\n",
    "        t = []\n",
    "        if i % 2 != 0:\n",
    "            for j in range(0, len(case[0])-1):\n",
    "                t.append(0)\n",
    "                t.append(murs[i//2, j, 1])\n",
    "            t.append(0)\n",
    "            l.append(t)\n",
    "        else:\n",
    "            for j in range(0, len(case[0])-1):\n",
    "                t.append(murs[i//2, j, 2])\n",
    "                t.append(0)\n",
    "            t.append(murs[i//2, j+1, 2])\n",
    "            l.append(t)\n",
    "    \n",
    "    if form == 1:\n",
    "        return l\n",
    "    else:\n",
    "        return case, murs, l\n",
    "\n",
    "def generer_labyrinthe(case, murs, position, back):\n",
    "    r = [0, 1, 2, 3]\n",
    "    if case.mean() == 2:\n",
    "        return\n",
    "    else:\n",
    "        for i in range(0, 4):\n",
    "            rand = choice(r)\n",
    "            r.remove(rand)\n",
    "            if position[0] + 1 < len(case) and case[position[0]+1, position[1]] == 0 and rand == 0:\n",
    "                case[position[0], position[1]] = 1\n",
    "                murs[position[0], position[1], 0] = 0\n",
    "                murs[position[0] +1, position[1], 2] = 0\n",
    "                generer_labyrinthe(case, murs, (position[0] + 1, position[1]), position)\n",
    "                break\n",
    "            elif position[0] - 1 >= 0 and case[position[0]-1, position[1]] == 0 and rand == 1:\n",
    "                case[position[0], position[1]] = 1\n",
    "                murs[position[0], position[1], 2] = 0\n",
    "                murs[position[0] -1, position[1], 0] = 0\n",
    "                generer_labyrinthe(case, murs, (position[0] - 1, position[1]), position)\n",
    "                break\n",
    "            elif position[1] + 1 < len(case[0]) and case[position[0], position[1]+1] == 0 and rand == 2:\n",
    "                case[position[0], position[1]] = 1\n",
    "                murs[position[0], position[1], 1] = 0\n",
    "                murs[position[0], position[1]+1, 3] = 0\n",
    "                generer_labyrinthe(case, murs, (position[0], position[1] + 1), position)\n",
    "                break\n",
    "            elif position[1] - 1 >= 0 and case[position[0], position[1]-1] == 0 and rand == 3:\n",
    "                case[position[0], position[1]] = 1\n",
    "                murs[position[0], position[1], 3] = 0\n",
    "                murs[position[0], position[1]-1, 1] = 0\n",
    "                generer_labyrinthe(case, murs, (position[0], position[1] - 1), position)\n",
    "                break\n",
    "        if position[0] - 1 >= 0 and case[position[0]-1, position[1]] == 1:\n",
    "            case[position[0], position[1]] = 2\n",
    "            generer_labyrinthe(case, murs, (position[0] - 1, position[1]), position)\n",
    "        elif position[1] + 1 < len(case[0]) and case[position[0], position[1]+1] == 1:\n",
    "            case[position[0], position[1]] = 2\n",
    "            generer_labyrinthe(case, murs, (position[0], position[1] + 1), position)\n",
    "        elif position[1] - 1 >= 0 and case[position[0], position[1]-1] == 1:\n",
    "            case[position[0], position[1]] = 2\n",
    "            generer_labyrinthe(case, murs, (position[0], position[1] - 1), position)\n",
    "        elif position[0] + 1 < len(case) and case[position[0]+1, position[1]] == 1:\n",
    "            case[position[0], position[1]] = 2\n",
    "            generer_labyrinthe(case, murs, (position[0]+1, position[1]), position)\n",
    "        else:\n",
    "            return"
   ]
  },
  {
   "cell_type": "code",
   "execution_count": 27,
   "id": "6d55b258",
   "metadata": {
    "code_folding": [],
    "slideshow": {
     "slide_type": "skip"
    }
   },
   "outputs": [],
   "source": [
    "class Labyrinthe:\n",
    "    def __init__(self, size:tuple):\n",
    "        self.taille = size\n",
    "        self.labyrinthe = np.zeros((2*size[1] - 1, 2*size[0] - 1))\n",
    "        self.ref = np.zeros((2*size[1] - 1, 2*size[0] - 1))\n",
    "        self.mfin = mfin = (self.taille[0] - 1)*self.taille[1] + (self.taille[1] - 1)*self.taille[0] - (self.taille[0]*self.taille[1] - 1)\n",
    "    def ajouterMur(self, coord:tuple, mur:str):\n",
    "        if (coord[0] + coord[1])%2 == 1:\n",
    "            self.labyrinte[coord[1]][coord[0]] = 1\n",
    "            return True\n",
    "        return False\n",
    "    \n",
    "    def afficheLabyrinthe(self):\n",
    "        t = [[(0, 0), (0, 1*self.taille[1])], [(0, self.taille[1]), (self.taille[0], self.taille[1])], [(self.taille[0], self.taille[1]), (self.taille[0], 0)], [(self.taille[0], 0), (0,0)]]\n",
    "        for i in range(len(self.labyrinthe)):\n",
    "            for j in range(len(self.labyrinthe[0])):\n",
    "                if (i + j)%2==1 and self.labyrinthe[i][j]==1:\n",
    "                    if i%2==1:\n",
    "                        t.append([(j/2, self.taille[1] - (i + 1)/2), (j/2 + 1, self.taille[1] - (i + 1)/2)])\n",
    "                    else:\n",
    "                        t.append([((j + 1)/2, self.taille[1] - (i)/2 - 1), ((j + 1)/2, self.taille[1] - (i)/2)])\n",
    "        d = sum([plot(line2d(i)) for i in t])\n",
    "        d.show(axes=False)\n",
    "    \n",
    "    def pseudoVieille(self):\n",
    "        for i in range(len(self.labyrinthe)):\n",
    "            for j in range((i + 1)%2, len(self.labyrinthe[0]), 2):\n",
    "                self.labyrinthe[i][j] = bool(randint(0, 1))\n",
    "                \n",
    "    def pseudo(self, murs):\n",
    "        self.labyrinthe = np.zeros((2*self.taille[1] - 1, 2*self.taille[0] - 1)) \n",
    "        for k in range(murs):\n",
    "            i = randint(0, len(self.labyrinthe) - 1)\n",
    "            if i%2==0:\n",
    "                j = 1 + randint(0, self.taille[1] - 2)*2\n",
    "            else:\n",
    "                j = randint(0, self.taille[1] - 1)*2\n",
    "            if self.labyrinthe[i][j] == 1:\n",
    "                k = k - 1\n",
    "            else:\n",
    "                self.labyrinthe[0]\n",
    "        #print(self.labyrinthe)\n",
    "                \n",
    "    def mursinf(self):\n",
    "        compte = 0\n",
    "        for i in range(len(self.labyrinthe)):\n",
    "            for j in range((i + 1)%2, len(self.labyrinthe[0]), 2):\n",
    "                if self.labyrinthe[i][j]:\n",
    "                    compte = compte + 1\n",
    "        if compte < self.mfin:\n",
    "            return True\n",
    "    \n",
    "    def estBranche(self, pos, a, d, b=True):\n",
    "        #print(pos)\n",
    "        #print(d)\n",
    "        if self.ref[pos[0]][pos[1]]==1:\n",
    "            return a, False\n",
    "        if (a==True and (pos[0]==0 or pos[0]==len(self.labyrinthe) or pos[1]==0 or pos[1]==len(self.labyrinthe[0]))):\n",
    "            self.ref[pos[0]][pos[1]]=1\n",
    "            return a, False\n",
    "        self.ref[pos[0]][pos[1]]=1\n",
    "        #print(self.ref)\n",
    "        #print(self.labyrinthe)\n",
    "        a = a + 1\n",
    "        ver = [True, True, True, True, True, True, True, True, True, True, True, True]\n",
    "        if d == \"b\":\n",
    "            if (pos[0] + 1 < len(self.labyrinthe)) and (pos[1] - 1 >=0) and (self.labyrinthe[pos[0] + 1][pos[1] - 1] == 1):\n",
    "                #print(\"bg\")\n",
    "                a, ver[0] = self.estBranche([pos[0] + 1, pos[1] - 1], a, \"g\")\n",
    "            if (pos[0] + 1 < len(self.labyrinthe)) and (pos[1] + 1 < len(self.labyrinthe[0])) and (self.labyrinthe[pos[0] + 1][pos[1] + 1] == 1):\n",
    "                #print(\"bd\")\n",
    "                a, ver[1] = self.estBranche([pos[0] + 1, pos[1] + 1], a, \"d\")\n",
    "            if (pos[0] + 2 < len(self.labyrinthe)) and (self.labyrinthe[pos[0] + 2][pos[1]] == 1):\n",
    "                #print(\"bb\")\n",
    "                a, ver[2] = self.estBranche([pos[0] + 2, pos[1]], a, \"b\")\n",
    "        if d == \"h\":\n",
    "            if (pos[0] - 1 >= 0) and (pos[1] - 1 >=0) and (self.labyrinthe[pos[0] - 1][pos[1] - 1] ==1):\n",
    "                #print(\"hg\")\n",
    "                a, ver[3] = self.estBranche([pos[0] - 1, pos[1] - 1], a, \"g\")\n",
    "            if (pos[0] - 1 >= 0) and (pos[1] + 1 < len(self.labyrinthe[0])) and (self.labyrinthe[pos[0] - 1][pos[1] + 1]==1):\n",
    "                #print(\"hd\")\n",
    "                a, ver[4] = self.estBranche([pos[0] - 1, pos[1] + 1], a, \"d\")\n",
    "            if (pos[0] - 2 >= 0) and (self.labyrinthe[pos[0] - 2][pos[1]]==1):\n",
    "                #print(\"hh\")\n",
    "                a, ver[5] = self.estBranche([pos[0] - 2, pos[1]], a, \"h\")\n",
    "        if d == \"d\":\n",
    "            if (pos[0] - 1 >= 0) and (pos[1] + 1 < len(self.labyrinthe[0])) and (self.labyrinthe[pos[0] - 1][pos[1] + 1] ==1):\n",
    "                #print(\"dh\")\n",
    "                a, ver[6] = self.estBranche([pos[0] - 1, pos[1] + 1], a, \"h\")\n",
    "            if (pos[1] + 2 < len(self.labyrinthe[0])) and (self.labyrinthe[pos[0]][pos[1] + 2]==1):\n",
    "                #print(\"dd\")\n",
    "                a, ver[7] = self.estBranche([pos[0], pos[1] + 2], a, \"d\")\n",
    "            if (pos[0] + 1 < len(self.labyrinthe)) and (pos[1] + 1 < len(self.labyrinthe[0])) and (self.labyrinthe[pos[0] + 1][pos[1] + 1] == 1):\n",
    "                #print(\"db\")\n",
    "                a, ver[8] = self.estBranche([pos[0] + 1, pos[1] + 1], a, \"b\")                \n",
    "        if d == \"g\":\n",
    "            if (pos[0] + 1 < len(self.labyrinthe)) and (pos[1] - 1 >= 0) and (self.labyrinthe[pos[0] + 1][pos[1] - 1] == 1):\n",
    "                #print(\"gb\")\n",
    "                a, ver[9] = self.estBranche([pos[0] + 1, pos[1] - 1], a, \"b\")\n",
    "            if (pos[1] - 2 >= 0) and (self.labyrinthe[pos[0]][pos[1] - 2]==1):\n",
    "                #print(\"gg\")\n",
    "                a, ver[10] = self.estBranche([pos[0], pos[1] - 2], a, \"g\")\n",
    "            if (pos[0] - 1 >= 0) and (pos[1] - 1 >= 0) and (self.labyrinthe[pos[0] - 1][pos[1] - 1]==1):\n",
    "                #print(\"gh\")\n",
    "                a, ver[11] = self.estBranche([pos[0] - 1, pos[1] - 1], a, \"h\")\n",
    "        return a, (ver[0]==True and ver[1]==True and ver[2]==True and ver[3]==True and ver[4]==True and ver[5]==True and ver[6]==True and ver[7]==True and ver[8]==True and ver[9]==True and ver[10]==True and ver[11]==True)\n",
    "        \n",
    "    def estLabyrinthe(self):\n",
    "        self.ref = np.zeros((2*self.taille[1] - 1, 2*self.taille[0] - 1))\n",
    "        #print(self.ref)\n",
    "        mfin = (self.taille[0] - 1)*self.taille[1] + (self.taille[1] - 1)*self.taille[0] - (self.taille[0]*self.taille[1] - 1)\n",
    "        compte = 0\n",
    "        for i in range(len(self.labyrinthe)):\n",
    "            for j in range((i + 1)%2, len(self.labyrinthe[0]), 2):\n",
    "                if self.labyrinthe[i][j]:\n",
    "                    compte = compte + 1\n",
    "        if compte != mfin:\n",
    "            return False\n",
    "        compte = 0\n",
    "        for i in range(len(self.labyrinthe)):\n",
    "            for j in range((i + 1)%2, len(self.labyrinthe[0]), 2):\n",
    "                #print(f\"añsdklj  {i}, {j}\")\n",
    "                if((i==0 or i==len(self.labyrinthe) - 1 or j==0 or j==len(self.labyrinthe[0]) - 1) and self.labyrinthe[i][j]==1):\n",
    "                    if i==0:\n",
    "                        d = \"b\"\n",
    "                    elif i==len(self.labyrinthe)-1:\n",
    "                        d = \"h\"\n",
    "                    elif j==0:\n",
    "                        d = \"d\"\n",
    "                    else:\n",
    "                        d = \"g\"\n",
    "                    sommer, etat = self.estBranche([i, j], 0, d, b=False)\n",
    "                    compte = compte + sommer\n",
    "                    if etat == False:\n",
    "                        return False\n",
    "        if compte != mfin:\n",
    "            return False\n",
    "        return True\n",
    "    \n",
    "    def creeVraiLent2(self):\n",
    "        mfin = (self.taille[0] - 1)*self.taille[1] + (self.taille[1] - 1)*self.taille[0] - (self.taille[0]*self.taille[1] - 1)\n",
    "        self.pseudo(mfin)\n",
    "        c = 1\n",
    "        while not(self.estLabyrinthe()):\n",
    "            self.pseudo(mfin)\n",
    "            c = c + 1\n",
    "        return c\n",
    "    def creeVraiLent(self):\n",
    "        self.pseudoVieille()\n",
    "        c = 1\n",
    "        while not(self.estLabyrinthe()):\n",
    "            self.pseudoVieille()\n",
    "            c = c + 1\n",
    "        return c\n",
    "    def creuse(self):\n",
    "        self.labyrinthe = labyrinthe_generator(self.taille)\n",
    "    def EnumereDessine(self):\n",
    "        self.ref = np.zeros((2*self.taille[1] - 1, 2*self.taille[0] - 1))\n",
    "        total = self.Dessine([0, 1], 0, 0)\n",
    "        return total\n",
    "    \n",
    "    def Dessine(self, coord, total, murs):\n",
    "        self.labyrinthe[coord[0]][coord[1]]=1\n",
    "        murs = murs + 1\n",
    "        if self.estLabyrinthe():\n",
    "            total = total + 1\n",
    "            self.afficheLabyrinthe()\n",
    "        if(murs < self.mfin):\n",
    "            if(coord[1] + 2 < len(self.labyrinthe[0])):\n",
    "                total = self.Dessine([coord[0], coord[1] + 2], total, murs)\n",
    "            elif(coord[0] + 1 < len(self.labyrinthe)):\n",
    "                total = self.Dessine([coord[0] + 1, int(coord[0]%2==1)], total, murs)\n",
    "        self.labyrinthe[coord[0]][coord[1]] = 0\n",
    "        murs = murs - 1\n",
    "        if(coord[1] + 2 < len(self.labyrinthe[0])):\n",
    "            total = self.Dessine([coord[0], coord[1] + 2], total, murs)\n",
    "        elif(coord[0] + 1 < len(self.labyrinthe)):\n",
    "            total = self.Dessine([coord[0] + 1, int(coord[0]%2==1)], total, murs)\n",
    "        return total\n",
    "        \n",
    "    def CompteTotal(self):\n",
    "        if self.taille[0]==1 or self.taille[1]==1:\n",
    "            return 1\n",
    "        self.ref = np.zeros((2*self.taille[1] - 1, 2*self.taille[0] - 1))\n",
    "        total = self.CompteSansDessinner([0, 1], 0, 0)\n",
    "        return total\n",
    "    \n",
    "    def CompteSansDessinner(self, coord, total, murs):\n",
    "        self.labyrinthe[coord[0]][coord[1]]=1\n",
    "        murs = murs + 1\n",
    "        if murs==self.mfin and self.estLabyrinthe():\n",
    "            total = total + 1\n",
    "        if(murs < self.mfin):\n",
    "            if(coord[1] + 2 < len(self.labyrinthe[0])):\n",
    "                total = self.CompteSansDessinner([coord[0], coord[1] + 2], total, murs)\n",
    "            elif(coord[0] + 1 < len(self.labyrinthe)):\n",
    "                total = self.CompteSansDessinner([coord[0] + 1, int(coord[0]%2==1)], total, murs)\n",
    "        self.labyrinthe[coord[0]][coord[1]] = 0\n",
    "        murs = murs - 1\n",
    "        if(coord[1] + 2 < len(self.labyrinthe[0])):\n",
    "            total = self.CompteSansDessinner([coord[0], coord[1] + 2], total, murs)\n",
    "        elif(coord[0] + 1 < len(self.labyrinthe)):\n",
    "            total = self.CompteSansDessinner([coord[0] + 1, int(coord[0]%2==1)], total, murs)\n",
    "        return total\n",
    "    \n",
    "    def  StockeTous(self):\n",
    "        self.ref = np.zeros((2*self.taille[1] - 1, 2*self.taille[0] - 1))\n",
    "        retour = self.Stocke([0, 1], 0, [])\n",
    "        return retour\n",
    "        \n",
    "    def Stocke(self, coord, murs, retour):\n",
    "        total = []\n",
    "        self.labyrinthe[coord[0]][coord[1]]=1\n",
    "        murs = murs + 1\n",
    "        if murs==self.mfin and self.estLabyrinthe():\n",
    "            retour.append(copy(self.labyrinthe))\n",
    "        if(murs < self.mfin):\n",
    "            if(coord[1] + 2 < len(self.labyrinthe[0])):\n",
    "                retour = self.Stocke([coord[0], coord[1] + 2], murs, retour)\n",
    "            elif(coord[0] + 1 < len(self.labyrinthe)):\n",
    "                retour = self.Stocke([coord[0] + 1, int(coord[0]%2==1)], murs, retour)\n",
    "        self.labyrinthe[coord[0]][coord[1]] = 0\n",
    "        murs = murs - 1\n",
    "        if(coord[1] + 2 < len(self.labyrinthe[0])):\n",
    "            retour = self.Stocke([coord[0], coord[1] + 2], murs, retour)\n",
    "        elif(coord[0] + 1 < len(self.labyrinthe)):\n",
    "            retour = self.Stocke([coord[0] + 1, int(coord[0]%2==1)], murs, retour)\n",
    "        return retour\n",
    "    \n",
    "    def compteAC(self):\n",
    "        #if(self.taille[0] < self.taille[1]):\n",
    "            #l = Labyrinthe((self.taille[1], self.taille[0]))\n",
    "            #return l.compteAC()\n",
    "        mat = np.zeros((self.taille[0]*self.taille[1], self.taille[0]*self.taille[1]))\n",
    "        #print(mat)\n",
    "        for i in range(self.taille[1]):\n",
    "            for j in range(self.taille[0]):\n",
    "                if(i > 0):\n",
    "                    #print(f\"i : {i}, j : {j}, 1\")\n",
    "                    mat[i*self.taille[0] + j][i*self.taille[0] + j]+=1\n",
    "                    mat[i*self.taille[0] + j][(i - 1)*self.taille[0] + j] = - 1\n",
    "                if(j < self.taille[0] - 1):\n",
    "                    #print(f\"i : {i}, j : {j}, 2\")\n",
    "                    mat[i*self.taille[0] + j][i*self.taille[0] + j]+=1\n",
    "                    mat[i*self.taille[0] + j][i*self.taille[0] + j + 1] = -1\n",
    "                if(i < self.taille[1] - 1):\n",
    "                    #print(f\"i : {i}, j : {j}, 3\")\n",
    "                    mat[i*self.taille[0] + j][i*self.taille[0] + j]+=1\n",
    "                    mat[i*self.taille[0] + j][(i + 1)*self.taille[0] + j] = - 1\n",
    "                if(j > 0):\n",
    "                    #print(f\"i : {i}, j : {j}, 4\")\n",
    "                    mat[i*self.taille[0] + j][i*self.taille[0] + j]+=1\n",
    "                    mat[i*self.taille[0] + j][i*self.taille[0] + j - 1] = - 1\n",
    "                #print(mat)\n",
    "        #print(mat)\n",
    "        matn = mat[0:-1, 0:-1]\n",
    "        #print(matn)\n",
    "        return np.linalg.det(matn).round()\n",
    "    \n",
    "    def GenereL(self):\n",
    "        if self.taille[0]==2 and self.taille[1]==2:\n",
    "            self.creeVraiLent()\n",
    "            return\n",
    "        if(self.taille[0]>=self.taille[1]):\n",
    "            l = Labyrinthe((self.taille[0] - 1, self.taille[1]))\n",
    "            l.GenereL()\n",
    "            #l.afficheLabyrinthe()\n",
    "            self.labyrinthe[::, 0:-2] = l.labyrinthe\n",
    "            while not(self.estLabyrinthe()):\n",
    "                for i in range(self.taille[1]*2 - 1):\n",
    "                    for j in range((i + 1)%2, 3, 2):\n",
    "                        self.labyrinthe[i][self.taille[0]*2 - 1 - 3 + j] = randint(0, 1)\n",
    "            return\n",
    "        if(self.taille[0]<self.taille[1]):\n",
    "            l = Labyrinthe((self.taille[0], self.taille[1] - 1))\n",
    "            l.GenereL()\n",
    "            #l.afficheLabyrinthe()\n",
    "            self.labyrinthe[0:-2] = l.labyrinthe\n",
    "            while not(self.estLabyrinthe()):\n",
    "                for i in range((self.taille[1]*2 - 1) - 3, (self.taille[1]*2 - 1)):\n",
    "                    for j in range((i + 1)%2, self.taille[0]*2 - 1, 2):\n",
    "                        self.labyrinthe[i][j] = randint(0, 1)\n",
    "            return\n",
    "            \n",
    "    def GenereSeul(self):\n",
    "        if self.taille[0]==2 and self.taille[1]==2:\n",
    "            self.labyrinthe = [[0, 1, 0], [0, 0, 0], [0, 0, 0]]\n",
    "            return\n",
    "        if(self.taille[0]>=self.taille[1]):\n",
    "            l = Labyrinthe((self.taille[0] - 1, self.taille[1]))\n",
    "            l.GenereSeul()\n",
    "            #l.afficheLabyrinthe()\n",
    "            self.labyrinthe[::, 0:-2] = l.labyrinthe\n",
    "            #while not(self.estLabyrinthe()):\n",
    "                #print(1)\n",
    "            for i in range(self.taille[1]*2 - 1):\n",
    "                if(i%2==1):\n",
    "                    self.labyrinthe[i][self.taille[0]*2 - 2] = 1\n",
    "            #self.afficheLabyrinthe()\n",
    "                #print(self.labyrinthe)\n",
    "            return\n",
    "        if(self.taille[0]<self.taille[1]):\n",
    "            l = Labyrinthe((self.taille[0], self.taille[1] - 1))\n",
    "            l.GenereSeul()\n",
    "            #l.afficheLabyrinthe()\n",
    "            self.labyrinthe[0:-2] = l.labyrinthe\n",
    "            #while not(self.estLabyrinthe()):\n",
    "                #print(2)\n",
    "            for j in range(1, self.taille[0]*2 - 1, 2):\n",
    "                    self.labyrinthe[2*self.taille[0]][j] = 1\n",
    "            #self.afficheLabyrinthe()\n",
    "                #print(self.labyrinthe)\n",
    "            return\n",
    "        \n",
    "                    \n",
    "        "
   ]
  },
  {
   "cell_type": "code",
   "execution_count": 28,
   "id": "f5c1a4e6",
   "metadata": {
    "code_folding": []
   },
   "outputs": [],
   "source": [
    "class Case:\n",
    "    def __init__(self, coord:tuple, state=(None, None, None, None)):\n",
    "        self.coordonnee = coord\n",
    "        self.h = state[0]\n",
    "        self.b = state[1]\n",
    "        self.g = state[2]\n",
    "        self.d = state[3]\n",
    "    \n",
    "    def affiche_murs(self):\n",
    "        print(f\"Haut : {self.h}\\nBas : {self.b}\\nGauche : {self.g}\\nDroite : {self.d}\")\n",
    "    \n",
    "    \n",
    "    def affiche(self):\n",
    "        c = []\n",
    "        if self.h != None and self.h.mur == True:\n",
    "            t = []\n",
    "            t.append((self.coordonnee[0]+1, self.coordonnee[1]+1))\n",
    "            t.append((self.coordonnee[0], self.coordonnee[1]+1))\n",
    "            c.append(t)\n",
    "        if self.d != None and self.d.mur == True:\n",
    "            t = []\n",
    "            t.append((self.coordonnee[0]+1, self.coordonnee[1]+1))\n",
    "            t.append((self.coordonnee[0]+1, self.coordonnee[1]))\n",
    "            c.append(t)\n",
    "        if self.g != None and self.g.mur == True:\n",
    "            t = []\n",
    "            t.append((self.coordonnee[0], self.coordonnee[1]+1))\n",
    "            t.append((self.coordonnee[0], self.coordonnee[1]))\n",
    "            c.append(t)\n",
    "        if self.b != None and self.b.mur == True:\n",
    "            t = []\n",
    "            t.append((self.coordonnee[0], self.coordonnee[1]))\n",
    "            t.append((self.coordonnee[0]+1, self.coordonnee[1]))\n",
    "            c.append(t)\n",
    "        return c\n",
    "\n",
    "class Mur:\n",
    "    def __init__(self, m=False, b=False):\n",
    "        self.mur = m\n",
    "        self.bord = b\n",
    "    \n",
    "class Labyrinthe_1:\n",
    "    def __init__(self, size:tuple, cast_laby:list = None):\n",
    "        self.taille = size\n",
    "        self.cases = []\n",
    "        self.murs = (self.taille[0]-1) * (self.taille[1]-1)\n",
    "        \n",
    "        if cast_laby != None:\n",
    "            #print(cast_laby)\n",
    "            self.constructeur(cast_laby)\n",
    "    def constructeur(self, l:list):\n",
    "        print((len(l[0])-(len(l[0])-1)/2, len(l)-(len(l)-1)/2-1))\n",
    "        laby = Labyrinthe_1((len(l[0])-(len(l[0])-1)/2, len(l)-(len(l)-1)/2))\n",
    "        laby.initEmpty((len(l[0])-(len(l[0])-1)/2, len(l)-(len(l)-1)/2))\n",
    "        \n",
    "        a = 0\n",
    "        b = 0\n",
    "        for i in range(len(l)-(len(l)-1)/2-1, -1):\n",
    "            for j in range(0, len(l[0])-(len(l[0])-1)/2):\n",
    "                print(int(a), int(b))\n",
    "                if i % 2 == 0:\n",
    "                    if j % 2 == 1:\n",
    "                        laby.ajouterMur((int(a), int(b)), 'd', bool(l[(len(l)-(len(l)-1)/2)-1-i][j]))\n",
    "                else:\n",
    "                    if j % 2 == 0:\n",
    "                        laby.ajouterMur((int(a), int(b)), 'b', bool(l[(len(l)-(len(l)-1)/2)-1-i][j]))\n",
    "                if b == len(l[0])-(len(l[0])-1)/2:\n",
    "                    b = 0\n",
    "                else:\n",
    "                    b += 0.5\n",
    "            if a == len(l)-(len(l)-1)/2:\n",
    "                a = 0\n",
    "            else:\n",
    "                a += 0.5\n",
    "                        \n",
    "        self.cases = laby.cases\n",
    "        self.taille = laby.taille\n",
    "        self.murs = laby.murs\n",
    "        \n",
    "        \n",
    "    def initEmpty(self, full = False):\n",
    "        for i in range(0, self.taille[1]):\n",
    "            r = []\n",
    "            for j in range(0, self.taille[0]):\n",
    "                r.append(Case( (j, i) ))\n",
    "            self.cases.append(r)\n",
    "        for i in range(0, self.taille[1]-1):\n",
    "            for j in range(0, self.taille[0]):\n",
    "                m = Mur(full)\n",
    "                self.cases[i][j].h = m\n",
    "                self.cases[i+1][j].b = m\n",
    "                if i == 0:\n",
    "                    m = Mur(True, True)\n",
    "                    self.cases[i][j].b = m\n",
    "                if i+1 == self.taille[1]-1:\n",
    "                    m = Mur(True, True)\n",
    "                    self.cases[i+1][j].h = m\n",
    "                \n",
    "        for i in range(0, self.taille[1]):\n",
    "            for j in range(0, self.taille[0]-1):\n",
    "                m = Mur(full)\n",
    "                self.cases[i][j].d = m\n",
    "                self.cases[i][j+1].g = m\n",
    "                m = Mur(True)\n",
    "                if j == 0:\n",
    "                    m = Mur(True, True)\n",
    "                    self.cases[i][j].g = m\n",
    "                if j+1 == self.taille[0]-1:\n",
    "                    m = Mur(True, True)\n",
    "                    self.cases[i][j+1].d = m\n",
    "                \n",
    "    # Ajouter un mur dans le labyrinthe\n",
    "    def ajouterMur(self, coord:tuple, mur:str, state=True):\n",
    "        if mur == 'h' and self.cases[coord[0]][coord[1]].h.bord == False:\n",
    "            self.cases[coord[0]][coord[1]].h.mur = bool(state)\n",
    "            return True\n",
    "        elif mur == 'b' and self.cases[coord[0]][coord[1]].b.bord == False:\n",
    "            self.cases[coord[0]][coord[1]].b.mur = bool(state)\n",
    "            return True\n",
    "        elif mur == 'g' and self.cases[coord[0]][coord[1]].g.bord == False:\n",
    "            self.cases[coord[0]][coord[1]].g.mur = bool(state)\n",
    "            return True\n",
    "        elif mur == 'd' and self.cases[coord[0]][coord[1]].d.bord == False:\n",
    "            self.cases[coord[0]][coord[1]].d.mur = bool(state)\n",
    "            return True\n",
    "        else:\n",
    "            return False\n",
    "        \n",
    "    # Retourne un tableau représentant la \"signature\" d'un labyrinthe\n",
    "    # Permet ensuite de comparer les labyrinthes entre eux\n",
    "    def signature_labyrinthe(self):\n",
    "        s = []\n",
    "        for i in range(0, len(self.cases)):\n",
    "            for j in range(0, len(self.cases[0])):\n",
    "                s.append([self.cases[i][j].h.mur, self.cases[i][j].b.mur, self.cases[i][j].g.mur, self.cases[i][j].d.mur])\n",
    "        return s\n",
    "    \n",
    "    def afficheLabyrinthe(self):\n",
    "        t = []\n",
    "        for l in self.cases:\n",
    "            for c in l:\n",
    "                coord = c.affiche()\n",
    "                for i in coord:\n",
    "                    t.append(i)\n",
    "        d = sum([plot(line2d(i)) for i in t])\n",
    "        d.show(axes=False)\n",
    "    \n",
    "    def get_random_place(self):\n",
    "        i = randint(0, self.taille[0]-1)\n",
    "        j = randint(0, self.taille[1]-1)\n",
    "        return self.cases[i][j]\n"
   ]
  },
  {
   "cell_type": "code",
   "execution_count": 6,
   "id": "8f0f445e",
   "metadata": {
    "code_folding": []
   },
   "outputs": [],
   "source": [
    "def get_pseudo_laby(taille:tuple):\n",
    "    l = Labyrinthe_1(taille)\n",
    "    l.initEmpty()\n",
    "    for i in range(0, taille[1]):\n",
    "        for j in range(0, taille[0]):\n",
    "            l.ajouterMur((i, j), 'h', randint(0, 1))\n",
    "            l.ajouterMur((i, j), 'b', randint(0, 1))\n",
    "            l.ajouterMur((i, j), 'g', randint(0, 1))\n",
    "            l.ajouterMur((i, j), 'd', randint(0, 1))\n",
    "    return l"
   ]
  },
  {
   "cell_type": "code",
   "execution_count": 7,
   "id": "a1fdf302",
   "metadata": {},
   "outputs": [],
   "source": [
    "def tableauc(a):\n",
    "    tab = np.zeros((a[0], a[1]))\n",
    "    for i in range(1, a[0] + 1):\n",
    "        for j in range(1, a[1] + 1):\n",
    "            tab[i - 1][j - 1] = (2**(i*(j - 1) + (i - 1)*j))/Labyrinthe((i, j)).compteAC()\n",
    "    column_values = range(1, a[0] + 1)\n",
    "    index_values = range(1, a[1] + 1)\n",
    "    retour = pd.DataFrame(data = tab, index = index_values, columns = column_values)\n",
    "    return retour"
   ]
  },
  {
   "cell_type": "code",
   "execution_count": 8,
   "id": "e4cb22bc",
   "metadata": {},
   "outputs": [],
   "source": [
    "def tableau(a):\n",
    "    tab = np.zeros((a[0], a[1]))\n",
    "    for i in range(a[0]):\n",
    "        for j in range(a[1]):\n",
    "            tab[i][j] = int(Labyrinthe((i + 1, j + 1)).compteAC())\n",
    "    column_values = range(1, a[0] + 1)\n",
    "    index_values = range(1, a[1] + 1)\n",
    "    retour = pd.DataFrame(data = tab, index = index_values, columns = column_values)\n",
    "    return retour"
   ]
  },
  {
   "cell_type": "markdown",
   "id": "c4d6aeae",
   "metadata": {
    "slideshow": {
     "slide_type": "slide"
    }
   },
   "source": [
    "# Labyrinthes et pseudo-labyrinthes"
   ]
  },
  {
   "cell_type": "code",
   "execution_count": 11,
   "id": "7cc44258",
   "metadata": {
    "scrolled": true,
    "slideshow": {
     "slide_type": "fragment"
    }
   },
   "outputs": [
    {
     "data": {
      "image/png": "[encoded data removed]",
      "text/plain": [
       "Graphics object consisting of 21 graphics primitives"
      ]
     },
     "metadata": {},
     "output_type": "display_data"
    }
   ],
   "source": [
    "l = Labyrinthe((4, 4))\n",
    "l.pseudoVieille()\n",
    "l.afficheLabyrinthe()"
   ]
  },
  {
   "cell_type": "code",
   "execution_count": 12,
   "id": "037398c4",
   "metadata": {
    "scrolled": true,
    "slideshow": {
     "slide_type": "fragment"
    }
   },
   "outputs": [
    {
     "data": {
      "image/png": "[encoded data removed]",
      "text/plain": [
       "Graphics object consisting of 13 graphics primitives"
      ]
     },
     "metadata": {},
     "output_type": "display_data"
    }
   ],
   "source": [
    "l.creeVraiLent()\n",
    "l.afficheLabyrinthe()"
   ]
  },
  {
   "cell_type": "markdown",
   "id": "a6f5b872",
   "metadata": {
    "slideshow": {
     "slide_type": "slide"
    }
   },
   "source": [
    "# Nos objectifs"
   ]
  },
  {
   "cell_type": "markdown",
   "id": "a235af91",
   "metadata": {
    "slideshow": {
     "slide_type": "-"
    }
   },
   "source": [
    "- Modéliser un labyrinthe\n",
    "  - Differentes structures des données\n",
    "- Générer des pseudo-labyrinthes\n",
    "- Générer des labyrinthes\n",
    "  - Savoir si un pseudo-labyrinthe est un labyrinthe\n",
    "  - Méthodes pour générer des labyrinthes\n",
    "  - Uniformité de la génération\n",
    "  - Complexité des approches\n",
    "- Énumerer les labyrinthes\n",
    "  - Les générer (et les afficher/enregistrer)\n",
    "  - Les compter sans les générer\n",
    "- Pour aller plus loin\n",
    "  - Génération des labyrinthes à partir de labyrinthes plus petits\n",
    "  - Étude des chemins dans un labyrinthe"
   ]
  },
  {
   "cell_type": "markdown",
   "id": "24997a4d",
   "metadata": {
    "slideshow": {
     "slide_type": "slide"
    }
   },
   "source": [
    "# Nos résultats"
   ]
  },
  {
   "cell_type": "markdown",
   "id": "3e7d2a22",
   "metadata": {},
   "source": [
    "## Nos structures"
   ]
  },
  {
   "cell_type": "markdown",
   "id": "501302e9",
   "metadata": {
    "slideshow": {
     "slide_type": "-"
    }
   },
   "source": [
    "### Tableau d'entiers"
   ]
  },
  {
   "cell_type": "markdown",
   "id": "a758e970",
   "metadata": {
    "slideshow": {
     "slide_type": "-"
    }
   },
   "source": [
    "- Taille (2l - 1)(2L - 1)\n",
    "  - Cases du tableau représentant des murs\n",
    "  - Cases ne représentant rien"
   ]
  },
  {
   "cell_type": "markdown",
   "id": "127c54e3",
   "metadata": {
    "slideshow": {
     "slide_type": "-"
    }
   },
   "source": [
    "### Tableau de Case"
   ]
  },
  {
   "cell_type": "markdown",
   "id": "94329699",
   "metadata": {
    "slideshow": {
     "slide_type": "-"
    }
   },
   "source": [
    "- La structure Case\n",
    "  - Un tuple contenant la position\n",
    "  - 4 booléens pour les murs d'une case\n",
    "- Un tableau de taille (l - 1)(L - 1) contenant des cases"
   ]
  },
  {
   "cell_type": "markdown",
   "id": "2fc8f460",
   "metadata": {},
   "source": [
    "## Génération des pseudo-labyrinthes"
   ]
  },
  {
   "cell_type": "markdown",
   "id": "beeed98b",
   "metadata": {},
   "source": [
    "### Avec le tableau d'entier"
   ]
  },
  {
   "cell_type": "code",
   "execution_count": 13,
   "id": "65e7ac70",
   "metadata": {},
   "outputs": [
    {
     "data": {
      "image/png": "[encoded data removed]",
      "text/plain": [
       "Graphics object consisting of 9915 graphics primitives"
      ]
     },
     "metadata": {},
     "output_type": "display_data"
    }
   ],
   "source": [
    "l = Labyrinthe((100, 100))\n",
    "l.pseudoVieille()\n",
    "l.afficheLabyrinthe()"
   ]
  },
  {
   "cell_type": "markdown",
   "id": "38cd0491",
   "metadata": {},
   "source": [
    "### Avec le tableau de Case"
   ]
  },
  {
   "cell_type": "code",
   "execution_count": 14,
   "id": "752c7f88",
   "metadata": {},
   "outputs": [
    {
     "data": {
      "image/png": "[encoded data removed]",
      "text/plain": [
       "Graphics object consisting of 19942 graphics primitives"
      ]
     },
     "metadata": {},
     "output_type": "display_data"
    }
   ],
   "source": [
    "l1 = get_pseudo_laby((100, 100))\n",
    "l1.afficheLabyrinthe()"
   ]
  },
  {
   "cell_type": "markdown",
   "id": "4ad520f5",
   "metadata": {},
   "source": [
    "## Générer des labyrinthes"
   ]
  },
  {
   "cell_type": "markdown",
   "id": "d747f7aa",
   "metadata": {},
   "source": [
    "### Savoir si un pseudo-labyrinthe est un labyrinthe"
   ]
  },
  {
   "cell_type": "code",
   "execution_count": 15,
   "id": "ba3d1c21",
   "metadata": {},
   "outputs": [
    {
     "data": {
      "image/png": "[encoded data removed]",
      "text/plain": [
       "Graphics object consisting of 8 graphics primitives"
      ]
     },
     "metadata": {},
     "output_type": "display_data"
    },
    {
     "data": {
      "text/plain": [
       "True"
      ]
     },
     "execution_count": 15,
     "metadata": {},
     "output_type": "execute_result"
    }
   ],
   "source": [
    "l = Labyrinthe((3, 3))\n",
    "l.labyrinthe = [[0, 1, 0, 1, 0], [0, 0, 0, 0, 0], [0, 1, 0, 1, 0], [0, 0, 0, 0, 0], [0, 0, 0, 0, 0]]\n",
    "l.afficheLabyrinthe()\n",
    "l.estLabyrinthe()"
   ]
  },
  {
   "cell_type": "code",
   "execution_count": 16,
   "id": "3418a40d",
   "metadata": {
    "scrolled": true
   },
   "outputs": [
    {
     "data": {
      "image/png": "[encoded data removed]",
      "text/plain": [
       "Graphics object consisting of 9 graphics primitives"
      ]
     },
     "metadata": {},
     "output_type": "display_data"
    },
    {
     "data": {
      "text/plain": [
       "False"
      ]
     },
     "execution_count": 16,
     "metadata": {},
     "output_type": "execute_result"
    }
   ],
   "source": [
    "l.labyrinthe = [[0, 1, 0, 1, 0], [0, 0, 0, 0, 0], [0, 1, 0, 1, 0], [0, 0, 0, 0, 0], [0, 0, 0, 1, 0]]\n",
    "l.afficheLabyrinthe()\n",
    "l.estLabyrinthe()"
   ]
  },
  {
   "cell_type": "markdown",
   "id": "f59166ea",
   "metadata": {},
   "source": [
    "### Méthodes pour générer des labyrinthes"
   ]
  },
  {
   "cell_type": "markdown",
   "id": "d1b4a0f9",
   "metadata": {},
   "source": [
    "#### Génération de pseudo-labyrinthes jusqu'à ce qu'on trouve un qui remplit les conditions"
   ]
  },
  {
   "cell_type": "code",
   "execution_count": 17,
   "id": "d9b1f552",
   "metadata": {
    "scrolled": true
   },
   "outputs": [
    {
     "data": {
      "image/png": "[encoded data removed]",
      "text/plain": [
       "Graphics object consisting of 8 graphics primitives"
      ]
     },
     "metadata": {},
     "output_type": "display_data"
    }
   ],
   "source": [
    "l.creeVraiLent()\n",
    "l.afficheLabyrinthe()"
   ]
  },
  {
   "cell_type": "markdown",
   "id": "6c44f05a",
   "metadata": {},
   "source": [
    "#### Génération aléatoire par récursivité"
   ]
  },
  {
   "cell_type": "markdown",
   "id": "6e8df944",
   "metadata": {},
   "source": [
    "Permet de générer des labyrinthes un peu plus grands qu'avec la méthode totalement aléatoire en prenant des labyrinthes un peu plus petits et en modifiant les deux dernieres lignes du labyrinthe de la taille qu'on cherche jusqu'à ce que se soit un labyrinthe"
   ]
  },
  {
   "cell_type": "code",
   "execution_count": 18,
   "id": "7f7079cd",
   "metadata": {},
   "outputs": [
    {
     "data": {
      "image/png": "[encoded data removed]",
      "text/plain": [
       "Graphics object consisting of 85 graphics primitives"
      ]
     },
     "metadata": {},
     "output_type": "display_data"
    }
   ],
   "source": [
    "N = Labyrinthe((10, 10))\n",
    "N.GenereL()\n",
    "N.afficheLabyrinthe()"
   ]
  },
  {
   "cell_type": "markdown",
   "id": "f239ec28",
   "metadata": {},
   "source": [
    "#### Génération directe en \"creusant\""
   ]
  },
  {
   "cell_type": "markdown",
   "id": "13743eb8",
   "metadata": {},
   "source": [
    "#### Génération directe par récursivité"
   ]
  },
  {
   "cell_type": "code",
   "execution_count": 19,
   "id": "46591e88",
   "metadata": {},
   "outputs": [
    {
     "data": {
      "image/png": "[encoded data removed]",
      "text/plain": [
       "Graphics object consisting of 85 graphics primitives"
      ]
     },
     "metadata": {},
     "output_type": "display_data"
    }
   ],
   "source": [
    "M = Labyrinthe((10, 10))\n",
    "M.GenereSeul()\n",
    "M.afficheLabyrinthe()"
   ]
  },
  {
   "cell_type": "code",
   "execution_count": 20,
   "id": "51824e64",
   "metadata": {},
   "outputs": [
    {
     "data": {
      "image/png": "[encoded data removed]",
      "text/plain": [
       "Graphics object consisting of 9805 graphics primitives"
      ]
     },
     "metadata": {},
     "output_type": "display_data"
    }
   ],
   "source": [
    "l = Labyrinthe((100, 100))\n",
    "l.creuse()\n",
    "l.afficheLabyrinthe()"
   ]
  },
  {
   "cell_type": "markdown",
   "id": "1bb204a6",
   "metadata": {},
   "source": [
    "### Uniformité de la génération"
   ]
  },
  {
   "cell_type": "markdown",
   "id": "262eb9e8",
   "metadata": {},
   "source": [
    "#### Génération uniforme avec CreeVraiLent()"
   ]
  },
  {
   "cell_type": "code",
   "execution_count": 21,
   "id": "9d26a031",
   "metadata": {},
   "outputs": [
    {
     "data": {
      "text/html": [
       "<div>\n",
       "<style scoped>\n",
       "    .dataframe tbody tr th:only-of-type {\n",
       "        vertical-align: middle;\n",
       "    }\n",
       "\n",
       "    .dataframe tbody tr th {\n",
       "        vertical-align: top;\n",
       "    }\n",
       "\n",
       "    .dataframe thead th {\n",
       "        text-align: right;\n",
       "    }\n",
       "</style>\n",
       "<table border=\"1\" class=\"dataframe\">\n",
       "  <thead>\n",
       "    <tr style=\"text-align: right;\">\n",
       "      <th></th>\n",
       "      <th>0</th>\n",
       "      <th>1</th>\n",
       "      <th>2</th>\n",
       "      <th>3</th>\n",
       "      <th>4</th>\n",
       "      <th>5</th>\n",
       "      <th>6</th>\n",
       "      <th>7</th>\n",
       "      <th>8</th>\n",
       "      <th>9</th>\n",
       "      <th>10</th>\n",
       "      <th>11</th>\n",
       "      <th>12</th>\n",
       "      <th>13</th>\n",
       "      <th>14</th>\n",
       "      <th>15</th>\n",
       "    </tr>\n",
       "  </thead>\n",
       "  <tbody>\n",
       "    <tr>\n",
       "      <th>0</th>\n",
       "      <td>51</td>\n",
       "      <td>48</td>\n",
       "      <td>53</td>\n",
       "      <td>46</td>\n",
       "      <td>46</td>\n",
       "      <td>54</td>\n",
       "      <td>54</td>\n",
       "      <td>65</td>\n",
       "      <td>43</td>\n",
       "      <td>45</td>\n",
       "      <td>46</td>\n",
       "      <td>49</td>\n",
       "      <td>42</td>\n",
       "      <td>57</td>\n",
       "      <td>57</td>\n",
       "      <td>53</td>\n",
       "    </tr>\n",
       "    <tr>\n",
       "      <th>1</th>\n",
       "      <td>65</td>\n",
       "      <td>69</td>\n",
       "      <td>57</td>\n",
       "      <td>42</td>\n",
       "      <td>61</td>\n",
       "      <td>33</td>\n",
       "      <td>56</td>\n",
       "      <td>56</td>\n",
       "      <td>56</td>\n",
       "      <td>56</td>\n",
       "      <td>56</td>\n",
       "      <td>51</td>\n",
       "      <td>46</td>\n",
       "      <td>58</td>\n",
       "      <td>59</td>\n",
       "      <td>49</td>\n",
       "    </tr>\n",
       "    <tr>\n",
       "      <th>2</th>\n",
       "      <td>68</td>\n",
       "      <td>35</td>\n",
       "      <td>46</td>\n",
       "      <td>64</td>\n",
       "      <td>50</td>\n",
       "      <td>46</td>\n",
       "      <td>53</td>\n",
       "      <td>55</td>\n",
       "      <td>52</td>\n",
       "      <td>62</td>\n",
       "      <td>63</td>\n",
       "      <td>47</td>\n",
       "      <td>47</td>\n",
       "      <td>50</td>\n",
       "      <td>58</td>\n",
       "      <td>60</td>\n",
       "    </tr>\n",
       "    <tr>\n",
       "      <th>3</th>\n",
       "      <td>39</td>\n",
       "      <td>58</td>\n",
       "      <td>55</td>\n",
       "      <td>47</td>\n",
       "      <td>50</td>\n",
       "      <td>51</td>\n",
       "      <td>54</td>\n",
       "      <td>68</td>\n",
       "      <td>54</td>\n",
       "      <td>50</td>\n",
       "      <td>46</td>\n",
       "      <td>60</td>\n",
       "      <td>58</td>\n",
       "      <td>50</td>\n",
       "      <td>41</td>\n",
       "      <td>60</td>\n",
       "    </tr>\n",
       "    <tr>\n",
       "      <th>4</th>\n",
       "      <td>54</td>\n",
       "      <td>55</td>\n",
       "      <td>57</td>\n",
       "      <td>53</td>\n",
       "      <td>60</td>\n",
       "      <td>53</td>\n",
       "      <td>49</td>\n",
       "      <td>46</td>\n",
       "      <td>51</td>\n",
       "      <td>46</td>\n",
       "      <td>45</td>\n",
       "      <td>55</td>\n",
       "      <td>42</td>\n",
       "      <td>64</td>\n",
       "      <td>60</td>\n",
       "      <td>49</td>\n",
       "    </tr>\n",
       "    <tr>\n",
       "      <th>5</th>\n",
       "      <td>47</td>\n",
       "      <td>40</td>\n",
       "      <td>43</td>\n",
       "      <td>50</td>\n",
       "      <td>61</td>\n",
       "      <td>52</td>\n",
       "      <td>50</td>\n",
       "      <td>59</td>\n",
       "      <td>50</td>\n",
       "      <td>50</td>\n",
       "      <td>44</td>\n",
       "      <td>48</td>\n",
       "      <td>55</td>\n",
       "      <td>64</td>\n",
       "      <td>55</td>\n",
       "      <td>61</td>\n",
       "    </tr>\n",
       "    <tr>\n",
       "      <th>6</th>\n",
       "      <td>46</td>\n",
       "      <td>57</td>\n",
       "      <td>40</td>\n",
       "      <td>49</td>\n",
       "      <td>47</td>\n",
       "      <td>37</td>\n",
       "      <td>63</td>\n",
       "      <td>67</td>\n",
       "      <td>42</td>\n",
       "      <td>54</td>\n",
       "      <td>53</td>\n",
       "      <td>56</td>\n",
       "      <td>45</td>\n",
       "      <td>44</td>\n",
       "      <td>48</td>\n",
       "      <td>50</td>\n",
       "    </tr>\n",
       "    <tr>\n",
       "      <th>7</th>\n",
       "      <td>54</td>\n",
       "      <td>52</td>\n",
       "      <td>46</td>\n",
       "      <td>62</td>\n",
       "      <td>63</td>\n",
       "      <td>38</td>\n",
       "      <td>51</td>\n",
       "      <td>64</td>\n",
       "      <td>60</td>\n",
       "      <td>64</td>\n",
       "      <td>60</td>\n",
       "      <td>54</td>\n",
       "      <td>55</td>\n",
       "      <td>59</td>\n",
       "      <td>59</td>\n",
       "      <td>55</td>\n",
       "    </tr>\n",
       "    <tr>\n",
       "      <th>8</th>\n",
       "      <td>54</td>\n",
       "      <td>49</td>\n",
       "      <td>55</td>\n",
       "      <td>53</td>\n",
       "      <td>50</td>\n",
       "      <td>51</td>\n",
       "      <td>41</td>\n",
       "      <td>54</td>\n",
       "      <td>63</td>\n",
       "      <td>36</td>\n",
       "      <td>54</td>\n",
       "      <td>60</td>\n",
       "      <td>51</td>\n",
       "      <td>56</td>\n",
       "      <td>51</td>\n",
       "      <td>51</td>\n",
       "    </tr>\n",
       "    <tr>\n",
       "      <th>9</th>\n",
       "      <td>46</td>\n",
       "      <td>48</td>\n",
       "      <td>51</td>\n",
       "      <td>47</td>\n",
       "      <td>52</td>\n",
       "      <td>41</td>\n",
       "      <td>52</td>\n",
       "      <td>52</td>\n",
       "      <td>53</td>\n",
       "      <td>43</td>\n",
       "      <td>45</td>\n",
       "      <td>62</td>\n",
       "      <td>56</td>\n",
       "      <td>54</td>\n",
       "      <td>56</td>\n",
       "      <td>44</td>\n",
       "    </tr>\n",
       "    <tr>\n",
       "      <th>10</th>\n",
       "      <td>41</td>\n",
       "      <td>55</td>\n",
       "      <td>35</td>\n",
       "      <td>59</td>\n",
       "      <td>41</td>\n",
       "      <td>42</td>\n",
       "      <td>51</td>\n",
       "      <td>47</td>\n",
       "      <td>63</td>\n",
       "      <td>43</td>\n",
       "      <td>59</td>\n",
       "      <td>50</td>\n",
       "      <td>47</td>\n",
       "      <td>51</td>\n",
       "      <td>52</td>\n",
       "      <td>52</td>\n",
       "    </tr>\n",
       "    <tr>\n",
       "      <th>11</th>\n",
       "      <td>50</td>\n",
       "      <td>53</td>\n",
       "      <td>51</td>\n",
       "      <td>70</td>\n",
       "      <td>38</td>\n",
       "      <td>54</td>\n",
       "      <td>50</td>\n",
       "      <td>55</td>\n",
       "      <td>44</td>\n",
       "      <td>48</td>\n",
       "      <td>58</td>\n",
       "      <td>39</td>\n",
       "      <td>53</td>\n",
       "      <td>50</td>\n",
       "      <td>66</td>\n",
       "      <td>64</td>\n",
       "    </tr>\n",
       "  </tbody>\n",
       "</table>\n",
       "</div>"
      ],
      "text/plain": [
       "    0   1   2   3   4   5   6   7   8   9   10  11  12  13  14  15\n",
       "0   51  48  53  46  46  54  54  65  43  45  46  49  42  57  57  53\n",
       "1   65  69  57  42  61  33  56  56  56  56  56  51  46  58  59  49\n",
       "2   68  35  46  64  50  46  53  55  52  62  63  47  47  50  58  60\n",
       "3   39  58  55  47  50  51  54  68  54  50  46  60  58  50  41  60\n",
       "4   54  55  57  53  60  53  49  46  51  46  45  55  42  64  60  49\n",
       "5   47  40  43  50  61  52  50  59  50  50  44  48  55  64  55  61\n",
       "6   46  57  40  49  47  37  63  67  42  54  53  56  45  44  48  50\n",
       "7   54  52  46  62  63  38  51  64  60  64  60  54  55  59  59  55\n",
       "8   54  49  55  53  50  51  41  54  63  36  54  60  51  56  51  51\n",
       "9   46  48  51  47  52  41  52  52  53  43  45  62  56  54  56  44\n",
       "10  41  55  35  59  41  42  51  47  63  43  59  50  47  51  52  52\n",
       "11  50  53  51  70  38  54  50  55  44  48  58  39  53  50  66  64"
      ]
     },
     "execution_count": 21,
     "metadata": {},
     "output_type": "execute_result"
    }
   ],
   "source": [
    "L = Labyrinthe((3, 3))\n",
    "stock = L.StockeTous()\n",
    "stock2 = []\n",
    "\n",
    "for a in range(0, len(stock)):\n",
    "    c = []\n",
    "    for b in range(0, len(stock[a])):\n",
    "        c.append(list(stock[a][b].astype('int')))\n",
    "    stock2.append(c)\n",
    "    \n",
    "frequence = np.zeros(len(stock2), dtype='int')\n",
    "\n",
    "for i in range(0, 10000):\n",
    "    L.creeVraiLent()\n",
    "    k = L.labyrinthe\n",
    "    for j in range(0, len(stock2)):\n",
    "        if (k == stock[j]).all():\n",
    "            frequence[j] += 1\n",
    "frequence = frequence.reshape(12, 16)\n",
    "pd.DataFrame(frequence, columns=[i for i in range(16)])"
   ]
  },
  {
   "cell_type": "markdown",
   "id": "c88c4c17",
   "metadata": {},
   "source": [
    "#### Génération non uniforme avec creuse()"
   ]
  },
  {
   "cell_type": "code",
   "execution_count": 22,
   "id": "f4869fc3",
   "metadata": {
    "scrolled": true
   },
   "outputs": [
    {
     "data": {
      "text/html": [
       "<div>\n",
       "<style scoped>\n",
       "    .dataframe tbody tr th:only-of-type {\n",
       "        vertical-align: middle;\n",
       "    }\n",
       "\n",
       "    .dataframe tbody tr th {\n",
       "        vertical-align: top;\n",
       "    }\n",
       "\n",
       "    .dataframe thead th {\n",
       "        text-align: right;\n",
       "    }\n",
       "</style>\n",
       "<table border=\"1\" class=\"dataframe\">\n",
       "  <thead>\n",
       "    <tr style=\"text-align: right;\">\n",
       "      <th></th>\n",
       "      <th>0</th>\n",
       "      <th>1</th>\n",
       "      <th>2</th>\n",
       "      <th>3</th>\n",
       "      <th>4</th>\n",
       "      <th>5</th>\n",
       "      <th>6</th>\n",
       "      <th>7</th>\n",
       "      <th>8</th>\n",
       "      <th>9</th>\n",
       "      <th>10</th>\n",
       "      <th>11</th>\n",
       "      <th>12</th>\n",
       "      <th>13</th>\n",
       "      <th>14</th>\n",
       "      <th>15</th>\n",
       "    </tr>\n",
       "  </thead>\n",
       "  <tbody>\n",
       "    <tr>\n",
       "      <th>0</th>\n",
       "      <td>140</td>\n",
       "      <td>123</td>\n",
       "      <td>0</td>\n",
       "      <td>0</td>\n",
       "      <td>0</td>\n",
       "      <td>96</td>\n",
       "      <td>0</td>\n",
       "      <td>0</td>\n",
       "      <td>0</td>\n",
       "      <td>0</td>\n",
       "      <td>0</td>\n",
       "      <td>0</td>\n",
       "      <td>0</td>\n",
       "      <td>0</td>\n",
       "      <td>0</td>\n",
       "      <td>0</td>\n",
       "    </tr>\n",
       "    <tr>\n",
       "      <th>1</th>\n",
       "      <td>0</td>\n",
       "      <td>122</td>\n",
       "      <td>0</td>\n",
       "      <td>94</td>\n",
       "      <td>42</td>\n",
       "      <td>93</td>\n",
       "      <td>48</td>\n",
       "      <td>40</td>\n",
       "      <td>0</td>\n",
       "      <td>83</td>\n",
       "      <td>0</td>\n",
       "      <td>0</td>\n",
       "      <td>0</td>\n",
       "      <td>0</td>\n",
       "      <td>120</td>\n",
       "      <td>392</td>\n",
       "    </tr>\n",
       "    <tr>\n",
       "      <th>2</th>\n",
       "      <td>0</td>\n",
       "      <td>35</td>\n",
       "      <td>0</td>\n",
       "      <td>122</td>\n",
       "      <td>0</td>\n",
       "      <td>0</td>\n",
       "      <td>0</td>\n",
       "      <td>0</td>\n",
       "      <td>0</td>\n",
       "      <td>0</td>\n",
       "      <td>0</td>\n",
       "      <td>0</td>\n",
       "      <td>0</td>\n",
       "      <td>217</td>\n",
       "      <td>147</td>\n",
       "      <td>303</td>\n",
       "    </tr>\n",
       "    <tr>\n",
       "      <th>3</th>\n",
       "      <td>212</td>\n",
       "      <td>0</td>\n",
       "      <td>0</td>\n",
       "      <td>121</td>\n",
       "      <td>127</td>\n",
       "      <td>124</td>\n",
       "      <td>0</td>\n",
       "      <td>0</td>\n",
       "      <td>145</td>\n",
       "      <td>143</td>\n",
       "      <td>0</td>\n",
       "      <td>0</td>\n",
       "      <td>0</td>\n",
       "      <td>406</td>\n",
       "      <td>34</td>\n",
       "      <td>0</td>\n",
       "    </tr>\n",
       "    <tr>\n",
       "      <th>4</th>\n",
       "      <td>0</td>\n",
       "      <td>0</td>\n",
       "      <td>0</td>\n",
       "      <td>0</td>\n",
       "      <td>0</td>\n",
       "      <td>0</td>\n",
       "      <td>0</td>\n",
       "      <td>0</td>\n",
       "      <td>117</td>\n",
       "      <td>95</td>\n",
       "      <td>102</td>\n",
       "      <td>141</td>\n",
       "      <td>0</td>\n",
       "      <td>0</td>\n",
       "      <td>97</td>\n",
       "      <td>46</td>\n",
       "    </tr>\n",
       "    <tr>\n",
       "      <th>5</th>\n",
       "      <td>0</td>\n",
       "      <td>60</td>\n",
       "      <td>0</td>\n",
       "      <td>0</td>\n",
       "      <td>0</td>\n",
       "      <td>0</td>\n",
       "      <td>129</td>\n",
       "      <td>232</td>\n",
       "      <td>309</td>\n",
       "      <td>149</td>\n",
       "      <td>0</td>\n",
       "      <td>0</td>\n",
       "      <td>232</td>\n",
       "      <td>103</td>\n",
       "      <td>140</td>\n",
       "      <td>0</td>\n",
       "    </tr>\n",
       "    <tr>\n",
       "      <th>6</th>\n",
       "      <td>0</td>\n",
       "      <td>0</td>\n",
       "      <td>0</td>\n",
       "      <td>114</td>\n",
       "      <td>0</td>\n",
       "      <td>52</td>\n",
       "      <td>315</td>\n",
       "      <td>384</td>\n",
       "      <td>68</td>\n",
       "      <td>0</td>\n",
       "      <td>0</td>\n",
       "      <td>293</td>\n",
       "      <td>105</td>\n",
       "      <td>49</td>\n",
       "      <td>0</td>\n",
       "      <td>0</td>\n",
       "    </tr>\n",
       "    <tr>\n",
       "      <th>7</th>\n",
       "      <td>0</td>\n",
       "      <td>0</td>\n",
       "      <td>0</td>\n",
       "      <td>0</td>\n",
       "      <td>0</td>\n",
       "      <td>0</td>\n",
       "      <td>0</td>\n",
       "      <td>0</td>\n",
       "      <td>0</td>\n",
       "      <td>0</td>\n",
       "      <td>0</td>\n",
       "      <td>0</td>\n",
       "      <td>0</td>\n",
       "      <td>0</td>\n",
       "      <td>0</td>\n",
       "      <td>45</td>\n",
       "    </tr>\n",
       "    <tr>\n",
       "      <th>8</th>\n",
       "      <td>0</td>\n",
       "      <td>0</td>\n",
       "      <td>0</td>\n",
       "      <td>0</td>\n",
       "      <td>0</td>\n",
       "      <td>0</td>\n",
       "      <td>0</td>\n",
       "      <td>0</td>\n",
       "      <td>0</td>\n",
       "      <td>0</td>\n",
       "      <td>0</td>\n",
       "      <td>253</td>\n",
       "      <td>58</td>\n",
       "      <td>340</td>\n",
       "      <td>117</td>\n",
       "      <td>0</td>\n",
       "    </tr>\n",
       "    <tr>\n",
       "      <th>9</th>\n",
       "      <td>0</td>\n",
       "      <td>296</td>\n",
       "      <td>0</td>\n",
       "      <td>0</td>\n",
       "      <td>60</td>\n",
       "      <td>0</td>\n",
       "      <td>41</td>\n",
       "      <td>0</td>\n",
       "      <td>0</td>\n",
       "      <td>102</td>\n",
       "      <td>86</td>\n",
       "      <td>243</td>\n",
       "      <td>233</td>\n",
       "      <td>0</td>\n",
       "      <td>151</td>\n",
       "      <td>0</td>\n",
       "    </tr>\n",
       "    <tr>\n",
       "      <th>10</th>\n",
       "      <td>248</td>\n",
       "      <td>0</td>\n",
       "      <td>0</td>\n",
       "      <td>206</td>\n",
       "      <td>0</td>\n",
       "      <td>301</td>\n",
       "      <td>125</td>\n",
       "      <td>234</td>\n",
       "      <td>0</td>\n",
       "      <td>0</td>\n",
       "      <td>0</td>\n",
       "      <td>0</td>\n",
       "      <td>0</td>\n",
       "      <td>0</td>\n",
       "      <td>0</td>\n",
       "      <td>0</td>\n",
       "    </tr>\n",
       "    <tr>\n",
       "      <th>11</th>\n",
       "      <td>0</td>\n",
       "      <td>0</td>\n",
       "      <td>0</td>\n",
       "      <td>0</td>\n",
       "      <td>0</td>\n",
       "      <td>0</td>\n",
       "      <td>0</td>\n",
       "      <td>0</td>\n",
       "      <td>0</td>\n",
       "      <td>0</td>\n",
       "      <td>0</td>\n",
       "      <td>0</td>\n",
       "      <td>0</td>\n",
       "      <td>0</td>\n",
       "      <td>0</td>\n",
       "      <td>0</td>\n",
       "    </tr>\n",
       "  </tbody>\n",
       "</table>\n",
       "</div>"
      ],
      "text/plain": [
       "     0    1   2    3    4    5    6    7    8    9    10   11   12   13   14  \\\n",
       "0   140  123   0    0    0   96    0    0    0    0    0    0    0    0    0   \n",
       "1     0  122   0   94   42   93   48   40    0   83    0    0    0    0  120   \n",
       "2     0   35   0  122    0    0    0    0    0    0    0    0    0  217  147   \n",
       "3   212    0   0  121  127  124    0    0  145  143    0    0    0  406   34   \n",
       "4     0    0   0    0    0    0    0    0  117   95  102  141    0    0   97   \n",
       "5     0   60   0    0    0    0  129  232  309  149    0    0  232  103  140   \n",
       "6     0    0   0  114    0   52  315  384   68    0    0  293  105   49    0   \n",
       "7     0    0   0    0    0    0    0    0    0    0    0    0    0    0    0   \n",
       "8     0    0   0    0    0    0    0    0    0    0    0  253   58  340  117   \n",
       "9     0  296   0    0   60    0   41    0    0  102   86  243  233    0  151   \n",
       "10  248    0   0  206    0  301  125  234    0    0    0    0    0    0    0   \n",
       "11    0    0   0    0    0    0    0    0    0    0    0    0    0    0    0   \n",
       "\n",
       "     15  \n",
       "0     0  \n",
       "1   392  \n",
       "2   303  \n",
       "3     0  \n",
       "4    46  \n",
       "5     0  \n",
       "6     0  \n",
       "7    45  \n",
       "8     0  \n",
       "9     0  \n",
       "10    0  \n",
       "11    0  "
      ]
     },
     "execution_count": 22,
     "metadata": {},
     "output_type": "execute_result"
    }
   ],
   "source": [
    "frequence = np.zeros(len(stock2), dtype='int')\n",
    "\n",
    "for i in range(0, 10000):\n",
    "    k = labyrinthe_generator((3, 3))\n",
    "    for j in range(0, len(stock2)):\n",
    "        if k == stock2[j]:\n",
    "            frequence[j] += 1\n",
    "frequence = frequence.reshape(12, 16)\n",
    "pd.DataFrame(frequence, columns=[i for i in range(16)])"
   ]
  },
  {
   "cell_type": "markdown",
   "id": "78afe4d1",
   "metadata": {},
   "source": [
    "#### Génération non uniforme par récursivité"
   ]
  },
  {
   "cell_type": "code",
   "execution_count": 23,
   "id": "407faad9",
   "metadata": {},
   "outputs": [
    {
     "data": {
      "text/html": [
       "<div>\n",
       "<style scoped>\n",
       "    .dataframe tbody tr th:only-of-type {\n",
       "        vertical-align: middle;\n",
       "    }\n",
       "\n",
       "    .dataframe tbody tr th {\n",
       "        vertical-align: top;\n",
       "    }\n",
       "\n",
       "    .dataframe thead th {\n",
       "        text-align: right;\n",
       "    }\n",
       "</style>\n",
       "<table border=\"1\" class=\"dataframe\">\n",
       "  <thead>\n",
       "    <tr style=\"text-align: right;\">\n",
       "      <th></th>\n",
       "      <th>0</th>\n",
       "      <th>1</th>\n",
       "      <th>2</th>\n",
       "      <th>3</th>\n",
       "      <th>4</th>\n",
       "      <th>5</th>\n",
       "      <th>6</th>\n",
       "      <th>7</th>\n",
       "      <th>8</th>\n",
       "      <th>9</th>\n",
       "      <th>10</th>\n",
       "      <th>11</th>\n",
       "      <th>12</th>\n",
       "      <th>13</th>\n",
       "      <th>14</th>\n",
       "      <th>15</th>\n",
       "    </tr>\n",
       "  </thead>\n",
       "  <tbody>\n",
       "    <tr>\n",
       "      <th>0</th>\n",
       "      <td>36</td>\n",
       "      <td>37</td>\n",
       "      <td>49</td>\n",
       "      <td>40</td>\n",
       "      <td>33</td>\n",
       "      <td>54</td>\n",
       "      <td>35</td>\n",
       "      <td>36</td>\n",
       "      <td>43</td>\n",
       "      <td>39</td>\n",
       "      <td>50</td>\n",
       "      <td>54</td>\n",
       "      <td>65</td>\n",
       "      <td>43</td>\n",
       "      <td>51</td>\n",
       "      <td>36</td>\n",
       "    </tr>\n",
       "    <tr>\n",
       "      <th>1</th>\n",
       "      <td>42</td>\n",
       "      <td>46</td>\n",
       "      <td>56</td>\n",
       "      <td>38</td>\n",
       "      <td>64</td>\n",
       "      <td>53</td>\n",
       "      <td>34</td>\n",
       "      <td>42</td>\n",
       "      <td>55</td>\n",
       "      <td>48</td>\n",
       "      <td>40</td>\n",
       "      <td>62</td>\n",
       "      <td>43</td>\n",
       "      <td>34</td>\n",
       "      <td>37</td>\n",
       "      <td>46</td>\n",
       "    </tr>\n",
       "    <tr>\n",
       "      <th>2</th>\n",
       "      <td>44</td>\n",
       "      <td>40</td>\n",
       "      <td>51</td>\n",
       "      <td>65</td>\n",
       "      <td>51</td>\n",
       "      <td>39</td>\n",
       "      <td>46</td>\n",
       "      <td>37</td>\n",
       "      <td>58</td>\n",
       "      <td>43</td>\n",
       "      <td>49</td>\n",
       "      <td>32</td>\n",
       "      <td>39</td>\n",
       "      <td>56</td>\n",
       "      <td>50</td>\n",
       "      <td>27</td>\n",
       "    </tr>\n",
       "    <tr>\n",
       "      <th>3</th>\n",
       "      <td>38</td>\n",
       "      <td>34</td>\n",
       "      <td>36</td>\n",
       "      <td>57</td>\n",
       "      <td>33</td>\n",
       "      <td>60</td>\n",
       "      <td>31</td>\n",
       "      <td>46</td>\n",
       "      <td>41</td>\n",
       "      <td>40</td>\n",
       "      <td>35</td>\n",
       "      <td>46</td>\n",
       "      <td>37</td>\n",
       "      <td>50</td>\n",
       "      <td>47</td>\n",
       "      <td>47</td>\n",
       "    </tr>\n",
       "    <tr>\n",
       "      <th>4</th>\n",
       "      <td>38</td>\n",
       "      <td>47</td>\n",
       "      <td>60</td>\n",
       "      <td>52</td>\n",
       "      <td>59</td>\n",
       "      <td>51</td>\n",
       "      <td>45</td>\n",
       "      <td>82</td>\n",
       "      <td>67</td>\n",
       "      <td>74</td>\n",
       "      <td>65</td>\n",
       "      <td>64</td>\n",
       "      <td>90</td>\n",
       "      <td>65</td>\n",
       "      <td>63</td>\n",
       "      <td>56</td>\n",
       "    </tr>\n",
       "    <tr>\n",
       "      <th>5</th>\n",
       "      <td>48</td>\n",
       "      <td>74</td>\n",
       "      <td>61</td>\n",
       "      <td>75</td>\n",
       "      <td>60</td>\n",
       "      <td>50</td>\n",
       "      <td>47</td>\n",
       "      <td>75</td>\n",
       "      <td>46</td>\n",
       "      <td>59</td>\n",
       "      <td>46</td>\n",
       "      <td>53</td>\n",
       "      <td>54</td>\n",
       "      <td>50</td>\n",
       "      <td>68</td>\n",
       "      <td>58</td>\n",
       "    </tr>\n",
       "    <tr>\n",
       "      <th>6</th>\n",
       "      <td>52</td>\n",
       "      <td>37</td>\n",
       "      <td>40</td>\n",
       "      <td>31</td>\n",
       "      <td>48</td>\n",
       "      <td>39</td>\n",
       "      <td>55</td>\n",
       "      <td>36</td>\n",
       "      <td>32</td>\n",
       "      <td>36</td>\n",
       "      <td>46</td>\n",
       "      <td>58</td>\n",
       "      <td>54</td>\n",
       "      <td>57</td>\n",
       "      <td>44</td>\n",
       "      <td>38</td>\n",
       "    </tr>\n",
       "    <tr>\n",
       "      <th>7</th>\n",
       "      <td>45</td>\n",
       "      <td>53</td>\n",
       "      <td>44</td>\n",
       "      <td>45</td>\n",
       "      <td>49</td>\n",
       "      <td>60</td>\n",
       "      <td>41</td>\n",
       "      <td>33</td>\n",
       "      <td>39</td>\n",
       "      <td>44</td>\n",
       "      <td>64</td>\n",
       "      <td>46</td>\n",
       "      <td>41</td>\n",
       "      <td>33</td>\n",
       "      <td>47</td>\n",
       "      <td>53</td>\n",
       "    </tr>\n",
       "    <tr>\n",
       "      <th>8</th>\n",
       "      <td>40</td>\n",
       "      <td>41</td>\n",
       "      <td>44</td>\n",
       "      <td>54</td>\n",
       "      <td>43</td>\n",
       "      <td>60</td>\n",
       "      <td>49</td>\n",
       "      <td>56</td>\n",
       "      <td>43</td>\n",
       "      <td>45</td>\n",
       "      <td>74</td>\n",
       "      <td>81</td>\n",
       "      <td>56</td>\n",
       "      <td>69</td>\n",
       "      <td>55</td>\n",
       "      <td>83</td>\n",
       "    </tr>\n",
       "    <tr>\n",
       "      <th>9</th>\n",
       "      <td>62</td>\n",
       "      <td>71</td>\n",
       "      <td>45</td>\n",
       "      <td>70</td>\n",
       "      <td>68</td>\n",
       "      <td>55</td>\n",
       "      <td>66</td>\n",
       "      <td>67</td>\n",
       "      <td>51</td>\n",
       "      <td>58</td>\n",
       "      <td>77</td>\n",
       "      <td>59</td>\n",
       "      <td>80</td>\n",
       "      <td>51</td>\n",
       "      <td>51</td>\n",
       "      <td>52</td>\n",
       "    </tr>\n",
       "    <tr>\n",
       "      <th>10</th>\n",
       "      <td>66</td>\n",
       "      <td>42</td>\n",
       "      <td>81</td>\n",
       "      <td>53</td>\n",
       "      <td>47</td>\n",
       "      <td>73</td>\n",
       "      <td>58</td>\n",
       "      <td>51</td>\n",
       "      <td>74</td>\n",
       "      <td>61</td>\n",
       "      <td>89</td>\n",
       "      <td>62</td>\n",
       "      <td>63</td>\n",
       "      <td>67</td>\n",
       "      <td>84</td>\n",
       "      <td>37</td>\n",
       "    </tr>\n",
       "    <tr>\n",
       "      <th>11</th>\n",
       "      <td>46</td>\n",
       "      <td>61</td>\n",
       "      <td>52</td>\n",
       "      <td>56</td>\n",
       "      <td>54</td>\n",
       "      <td>69</td>\n",
       "      <td>56</td>\n",
       "      <td>58</td>\n",
       "      <td>49</td>\n",
       "      <td>66</td>\n",
       "      <td>52</td>\n",
       "      <td>83</td>\n",
       "      <td>46</td>\n",
       "      <td>75</td>\n",
       "      <td>51</td>\n",
       "      <td>54</td>\n",
       "    </tr>\n",
       "  </tbody>\n",
       "</table>\n",
       "</div>"
      ],
      "text/plain": [
       "    0   1   2   3   4   5   6   7   8   9   10  11  12  13  14  15\n",
       "0   36  37  49  40  33  54  35  36  43  39  50  54  65  43  51  36\n",
       "1   42  46  56  38  64  53  34  42  55  48  40  62  43  34  37  46\n",
       "2   44  40  51  65  51  39  46  37  58  43  49  32  39  56  50  27\n",
       "3   38  34  36  57  33  60  31  46  41  40  35  46  37  50  47  47\n",
       "4   38  47  60  52  59  51  45  82  67  74  65  64  90  65  63  56\n",
       "5   48  74  61  75  60  50  47  75  46  59  46  53  54  50  68  58\n",
       "6   52  37  40  31  48  39  55  36  32  36  46  58  54  57  44  38\n",
       "7   45  53  44  45  49  60  41  33  39  44  64  46  41  33  47  53\n",
       "8   40  41  44  54  43  60  49  56  43  45  74  81  56  69  55  83\n",
       "9   62  71  45  70  68  55  66  67  51  58  77  59  80  51  51  52\n",
       "10  66  42  81  53  47  73  58  51  74  61  89  62  63  67  84  37\n",
       "11  46  61  52  56  54  69  56  58  49  66  52  83  46  75  51  54"
      ]
     },
     "execution_count": 23,
     "metadata": {},
     "output_type": "execute_result"
    }
   ],
   "source": [
    "L = Labyrinthe((3, 3))\n",
    "stock = L.StockeTous()\n",
    "stock2 = []\n",
    "\n",
    "for a in range(0, len(stock)):\n",
    "    c = []\n",
    "    for b in range(0, len(stock[a])):\n",
    "        c.append(list(stock[a][b].astype('int')))\n",
    "    stock2.append(c)\n",
    "    \n",
    "frequence = np.zeros(len(stock2), dtype='int')\n",
    "\n",
    "for i in range(0, 10000):\n",
    "    L.labyrinthe = np.zeros((5, 5))\n",
    "    L.GenereL()\n",
    "    k = L.labyrinthe\n",
    "    for j in range(0, len(stock2)):\n",
    "        if (k == stock[j]).all():\n",
    "            frequence[j] += 1\n",
    "frequence = frequence.reshape(12, 16)\n",
    "pd.DataFrame(frequence, columns=[i for i in range(16)])"
   ]
  },
  {
   "cell_type": "markdown",
   "id": "b3ca3a7d",
   "metadata": {},
   "source": [
    "### Complexité des approches"
   ]
  },
  {
   "cell_type": "markdown",
   "id": "fdda7ba7",
   "metadata": {},
   "source": [
    "#### Calcul de la complexité de CreeVraiLent"
   ]
  },
  {
   "cell_type": "markdown",
   "id": "1d774cb8",
   "metadata": {},
   "source": [
    "pseudo-labyrinthes/labyrinthes"
   ]
  },
  {
   "cell_type": "code",
   "execution_count": 24,
   "id": "6951812b",
   "metadata": {},
   "outputs": [
    {
     "name": "stdout",
     "output_type": "stream",
     "text": [
      "4096/192.0 = 21.333333333333332\n"
     ]
    },
    {
     "data": {
      "text/plain": [
       "21.4015"
      ]
     },
     "execution_count": 24,
     "metadata": {},
     "output_type": "execute_result"
    }
   ],
   "source": [
    "l = Labyrinthe((3, 3))\n",
    "print(f\"{2**(l.taille[0]*(l.taille[1] - 1) + (l.taille[0] - 1)*l.taille[1])}/{l.compteAC()} = {(2**(l.taille[0]*(l.taille[1] - 1) + (l.taille[0] - 1)*l.taille[1]))/l.compteAC()}\")\n",
    "moyenne = 0\n",
    "for i in range(10000):\n",
    "    moyenne+=l.creeVraiLent()\n",
    "float(moyenne/10000)"
   ]
  },
  {
   "cell_type": "code",
   "execution_count": 25,
   "id": "cbe559ef",
   "metadata": {},
   "outputs": [
    {
     "data": {
      "text/html": [
       "<div>\n",
       "<style scoped>\n",
       "    .dataframe tbody tr th:only-of-type {\n",
       "        vertical-align: middle;\n",
       "    }\n",
       "\n",
       "    .dataframe tbody tr th {\n",
       "        vertical-align: top;\n",
       "    }\n",
       "\n",
       "    .dataframe thead th {\n",
       "        text-align: right;\n",
       "    }\n",
       "</style>\n",
       "<table border=\"1\" class=\"dataframe\">\n",
       "  <thead>\n",
       "    <tr style=\"text-align: right;\">\n",
       "      <th></th>\n",
       "      <th>1</th>\n",
       "      <th>2</th>\n",
       "      <th>3</th>\n",
       "      <th>4</th>\n",
       "      <th>5</th>\n",
       "      <th>6</th>\n",
       "      <th>7</th>\n",
       "      <th>8</th>\n",
       "      <th>9</th>\n",
       "      <th>10</th>\n",
       "    </tr>\n",
       "  </thead>\n",
       "  <tbody>\n",
       "    <tr>\n",
       "      <th>1</th>\n",
       "      <td>1.0</td>\n",
       "      <td>2.000000</td>\n",
       "      <td>4.000000</td>\n",
       "      <td>8.000000</td>\n",
       "      <td>1.600000e+01</td>\n",
       "      <td>3.200000e+01</td>\n",
       "      <td>6.400000e+01</td>\n",
       "      <td>1.280000e+02</td>\n",
       "      <td>2.560000e+02</td>\n",
       "      <td>5.120000e+02</td>\n",
       "    </tr>\n",
       "    <tr>\n",
       "      <th>2</th>\n",
       "      <td>2.0</td>\n",
       "      <td>4.000000</td>\n",
       "      <td>8.533333</td>\n",
       "      <td>18.285714</td>\n",
       "      <td>3.919617e+01</td>\n",
       "      <td>8.402051e+01</td>\n",
       "      <td>1.801058e+02</td>\n",
       "      <td>3.860736e+02</td>\n",
       "      <td>8.275850e+02</td>\n",
       "      <td>1.774006e+03</td>\n",
       "    </tr>\n",
       "    <tr>\n",
       "      <th>3</th>\n",
       "      <td>4.0</td>\n",
       "      <td>8.533333</td>\n",
       "      <td>21.333333</td>\n",
       "      <td>54.274120</td>\n",
       "      <td>1.384030e+02</td>\n",
       "      <td>3.530559e+02</td>\n",
       "      <td>9.006630e+02</td>\n",
       "      <td>2.297652e+03</td>\n",
       "      <td>5.861471e+03</td>\n",
       "      <td>1.495302e+04</td>\n",
       "    </tr>\n",
       "    <tr>\n",
       "      <th>4</th>\n",
       "      <td>8.0</td>\n",
       "      <td>18.285714</td>\n",
       "      <td>54.274120</td>\n",
       "      <td>167.183673</td>\n",
       "      <td>5.187057e+02</td>\n",
       "      <td>1.611831e+03</td>\n",
       "      <td>5.010335e+03</td>\n",
       "      <td>1.557568e+04</td>\n",
       "      <td>4.842112e+04</td>\n",
       "      <td>1.505304e+05</td>\n",
       "    </tr>\n",
       "    <tr>\n",
       "      <th>5</th>\n",
       "      <td>16.0</td>\n",
       "      <td>39.196172</td>\n",
       "      <td>138.403036</td>\n",
       "      <td>518.705708</td>\n",
       "      <td>1.971978e+03</td>\n",
       "      <td>7.526552e+03</td>\n",
       "      <td>2.875979e+04</td>\n",
       "      <td>1.099312e+05</td>\n",
       "      <td>4.202415e+05</td>\n",
       "      <td>1.606533e+06</td>\n",
       "    </tr>\n",
       "    <tr>\n",
       "      <th>6</th>\n",
       "      <td>32.0</td>\n",
       "      <td>84.020513</td>\n",
       "      <td>353.055892</td>\n",
       "      <td>1611.831306</td>\n",
       "      <td>7.526552e+03</td>\n",
       "      <td>3.540311e+04</td>\n",
       "      <td>1.669476e+05</td>\n",
       "      <td>7.879622e+05</td>\n",
       "      <td>3.720220e+06</td>\n",
       "      <td>1.756634e+07</td>\n",
       "    </tr>\n",
       "    <tr>\n",
       "      <th>7</th>\n",
       "      <td>64.0</td>\n",
       "      <td>180.105806</td>\n",
       "      <td>900.662993</td>\n",
       "      <td>5010.334728</td>\n",
       "      <td>2.875979e+04</td>\n",
       "      <td>1.669476e+05</td>\n",
       "      <td>9.733521e+05</td>\n",
       "      <td>5.684902e+06</td>\n",
       "      <td>3.322676e+07</td>\n",
       "      <td>1.942591e+08</td>\n",
       "    </tr>\n",
       "    <tr>\n",
       "      <th>8</th>\n",
       "      <td>128.0</td>\n",
       "      <td>386.073638</td>\n",
       "      <td>2297.651893</td>\n",
       "      <td>15575.681995</td>\n",
       "      <td>1.099312e+05</td>\n",
       "      <td>7.879622e+05</td>\n",
       "      <td>5.684902e+06</td>\n",
       "      <td>4.113319e+07</td>\n",
       "      <td>2.980073e+08</td>\n",
       "      <td>2.160325e+09</td>\n",
       "    </tr>\n",
       "    <tr>\n",
       "      <th>9</th>\n",
       "      <td>256.0</td>\n",
       "      <td>827.584955</td>\n",
       "      <td>5861.470588</td>\n",
       "      <td>48421.119813</td>\n",
       "      <td>4.202415e+05</td>\n",
       "      <td>3.720220e+06</td>\n",
       "      <td>3.322676e+07</td>\n",
       "      <td>2.980073e+08</td>\n",
       "      <td>2.678245e+09</td>\n",
       "      <td>2.409406e+10</td>\n",
       "    </tr>\n",
       "    <tr>\n",
       "      <th>10</th>\n",
       "      <td>512.0</td>\n",
       "      <td>1774.005763</td>\n",
       "      <td>14953.023435</td>\n",
       "      <td>150530.411868</td>\n",
       "      <td>1.606533e+06</td>\n",
       "      <td>1.756634e+07</td>\n",
       "      <td>1.942591e+08</td>\n",
       "      <td>2.160325e+09</td>\n",
       "      <td>2.409406e+10</td>\n",
       "      <td>2.691271e+11</td>\n",
       "    </tr>\n",
       "  </tbody>\n",
       "</table>\n",
       "</div>"
      ],
      "text/plain": [
       "       1            2             3              4             5   \\\n",
       "1     1.0     2.000000      4.000000       8.000000  1.600000e+01   \n",
       "2     2.0     4.000000      8.533333      18.285714  3.919617e+01   \n",
       "3     4.0     8.533333     21.333333      54.274120  1.384030e+02   \n",
       "4     8.0    18.285714     54.274120     167.183673  5.187057e+02   \n",
       "5    16.0    39.196172    138.403036     518.705708  1.971978e+03   \n",
       "6    32.0    84.020513    353.055892    1611.831306  7.526552e+03   \n",
       "7    64.0   180.105806    900.662993    5010.334728  2.875979e+04   \n",
       "8   128.0   386.073638   2297.651893   15575.681995  1.099312e+05   \n",
       "9   256.0   827.584955   5861.470588   48421.119813  4.202415e+05   \n",
       "10  512.0  1774.005763  14953.023435  150530.411868  1.606533e+06   \n",
       "\n",
       "              6             7             8             9             10  \n",
       "1   3.200000e+01  6.400000e+01  1.280000e+02  2.560000e+02  5.120000e+02  \n",
       "2   8.402051e+01  1.801058e+02  3.860736e+02  8.275850e+02  1.774006e+03  \n",
       "3   3.530559e+02  9.006630e+02  2.297652e+03  5.861471e+03  1.495302e+04  \n",
       "4   1.611831e+03  5.010335e+03  1.557568e+04  4.842112e+04  1.505304e+05  \n",
       "5   7.526552e+03  2.875979e+04  1.099312e+05  4.202415e+05  1.606533e+06  \n",
       "6   3.540311e+04  1.669476e+05  7.879622e+05  3.720220e+06  1.756634e+07  \n",
       "7   1.669476e+05  9.733521e+05  5.684902e+06  3.322676e+07  1.942591e+08  \n",
       "8   7.879622e+05  5.684902e+06  4.113319e+07  2.980073e+08  2.160325e+09  \n",
       "9   3.720220e+06  3.322676e+07  2.980073e+08  2.678245e+09  2.409406e+10  \n",
       "10  1.756634e+07  1.942591e+08  2.160325e+09  2.409406e+10  2.691271e+11  "
      ]
     },
     "execution_count": 25,
     "metadata": {},
     "output_type": "execute_result"
    }
   ],
   "source": [
    "tableauc((10, 10))"
   ]
  },
  {
   "cell_type": "markdown",
   "id": "74d9671a",
   "metadata": {},
   "source": [
    "#### Complexité de creuse"
   ]
  },
  {
   "cell_type": "markdown",
   "id": "e1f7449b",
   "metadata": {},
   "source": [
    "Evolution du temps en fonction du nombre de cases dans le labyrinthe"
   ]
  },
  {
   "cell_type": "code",
   "execution_count": 74,
   "id": "cc50709c",
   "metadata": {},
   "outputs": [
    {
     "data": {
      "text/plain": [
       "Text(0.5, 0.98, 'Evolution linéaire du temps')"
      ]
     },
     "execution_count": 74,
     "metadata": {},
     "output_type": "execute_result"
    },
    {
     "data": {
      "image/png": "[encoded data removed]",
      "text/plain": [
       "<Figure size 720x720 with 1 Axes>"
      ]
     },
     "metadata": {
      "needs_background": "light"
     },
     "output_type": "display_data"
    }
   ],
   "source": [
    "fig = plt.figure(figsize=(10, 10))\n",
    "ax = fig.add_subplot(1, 1, 1)\n",
    "v = [1, 2, 4, 10, 15, 20, 25, 30, 35, 40, 50]\n",
    "for i in range(1, 50):\n",
    "    l = Labyrinthe((i, i))\n",
    "    t1 = time.time()\n",
    "    l.creuse()\n",
    "    y = time.time() - t1\n",
    "    ax.scatter(i*i, y)\n",
    "ax.set_xlabel('Nombre de cases', fontsize=15)\n",
    "ax.set_ylabel('Temps (secondes)', fontsize=15)\n",
    "fig.suptitle('Evolution linéaire du temps', fontsize=20)"
   ]
  },
  {
   "cell_type": "markdown",
   "id": "3a66750c",
   "metadata": {},
   "source": [
    "## Énumeration des labyrinthes"
   ]
  },
  {
   "cell_type": "markdown",
   "id": "ff83fbe4",
   "metadata": {},
   "source": [
    "### Génération de l'ensemble des labyrinthes"
   ]
  },
  {
   "cell_type": "markdown",
   "id": "5cae07fb",
   "metadata": {
    "heading_collapsed": true
   },
   "source": [
    "#### En les dessinant"
   ]
  },
  {
   "cell_type": "code",
   "execution_count": 66,
   "id": "fe40af10",
   "metadata": {
    "hidden": true
   },
   "outputs": [
    {
     "data": {
      "image/png": "[encoded data removed]",
      "text/plain": [
       "Graphics object consisting of 8 graphics primitives"
      ]
     },
     "metadata": {},
     "output_type": "display_data"
    },
    {
     "data": {
      "image/png": "[encoded data removed]",
      "text/plain": [
       "Graphics object consisting of 8 graphics primitives"
      ]
     },
     "metadata": {},
     "output_type": "display_data"
    },
    {
     "data": {
      "image/png": "[encoded data removed]",
      "text/plain": [
       "Graphics object consisting of 8 graphics primitives"
      ]
     },
     "metadata": {},
     "output_type": "display_data"
    },
    {
     "data": {
      "image/png": "[encoded data removed]",
      "text/plain": [
       "Graphics object consisting of 8 graphics primitives"
      ]
     },
     "metadata": {},
     "output_type": "display_data"
    },
    {
     "data": {
      "image/png": "[encoded data removed]",
      "text/plain": [
       "Graphics object consisting of 8 graphics primitives"
      ]
     },
     "metadata": {},
     "output_type": "display_data"
    },
    {
     "data": {
      "image/png": "[encoded data removed]",
      "text/plain": [
       "Graphics object consisting of 8 graphics primitives"
      ]
     },
     "metadata": {},
     "output_type": "display_data"
    },
    {
     "data": {
      "image/png": "[encoded data removed]",
      "text/plain": [
       "Graphics object consisting of 8 graphics primitives"
      ]
     },
     "metadata": {},
     "output_type": "display_data"
    },
    {
     "data": {
      "image/png": "[encoded data removed]",
      "text/plain": [
       "Graphics object consisting of 8 graphics primitives"
      ]
     },
     "metadata": {},
     "output_type": "display_data"
    },
    {
     "data": {
      "image/png": "[encoded data removed]",
      "text/plain": [
       "Graphics object consisting of 8 graphics primitives"
      ]
     },
     "metadata": {},
     "output_type": "display_data"
    },
    {
     "data": {
      "image/png": "[encoded data removed]",
      "text/plain": [
       "Graphics object consisting of 8 graphics primitives"
      ]
     },
     "metadata": {},
     "output_type": "display_data"
    },
    {
     "data": {
      "image/png": "[encoded data removed]",
      "text/plain": [
       "Graphics object consisting of 8 graphics primitives"
      ]
     },
     "metadata": {},
     "output_type": "display_data"
    },
    {
     "data": {
      "image/png": "[encoded data removed]",
      "text/plain": [
       "Graphics object consisting of 8 graphics primitives"
      ]
     },
     "metadata": {},
     "output_type": "display_data"
    },
    {
     "data": {
      "image/png": "[encoded data removed]",
      "text/plain": [
       "Graphics object consisting of 8 graphics primitives"
      ]
     },
     "metadata": {},
     "output_type": "display_data"
    },
    {
     "data": {
      "image/png": "[encoded data removed]",
      "text/plain": [
       "Graphics object consisting of 8 graphics primitives"
      ]
     },
     "metadata": {},
     "output_type": "display_data"
    },
    {
     "data": {
      "image/png": "[encoded data removed]",
      "text/plain": [
       "Graphics object consisting of 8 graphics primitives"
      ]
     },
     "metadata": {},
     "output_type": "display_data"
    },
    {
     "data": {
      "image/png": "[encoded data removed]",
      "text/plain": [
       "Graphics object consisting of 8 graphics primitives"
      ]
     },
     "metadata": {},
     "output_type": "display_data"
    },
    {
     "data": {
      "image/png": "[encoded data removed]",
      "text/plain": [
       "Graphics object consisting of 8 graphics primitives"
      ]
     },
     "metadata": {},
     "output_type": "display_data"
    },
    {
     "data": {
      "image/png": "[encoded data removed]",
      "text/plain": [
       "Graphics object consisting of 8 graphics primitives"
      ]
     },
     "metadata": {},
     "output_type": "display_data"
    },
    {
     "data": {
      "image/png": "[encoded data removed]",
      "text/plain": [
       "Graphics object consisting of 8 graphics primitives"
      ]
     },
     "metadata": {},
     "output_type": "display_data"
    },
    {
     "data": {
      "image/png": "[encoded data removed]",
      "text/plain": [
       "Graphics object consisting of 8 graphics primitives"
      ]
     },
     "metadata": {},
     "output_type": "display_data"
    },
    {
     "data": {
      "image/png": "[encoded data removed]",
      "text/plain": [
       "Graphics object consisting of 8 graphics primitives"
      ]
     },
     "metadata": {},
     "output_type": "display_data"
    },
    {
     "data": {
      "image/png": "[encoded data removed]",
      "text/plain": [
       "Graphics object consisting of 8 graphics primitives"
      ]
     },
     "metadata": {},
     "output_type": "display_data"
    },
    {
     "data": {
      "image/png": "[encoded data removed]",
      "text/plain": [
       "Graphics object consisting of 8 graphics primitives"
      ]
     },
     "metadata": {},
     "output_type": "display_data"
    },
    {
     "data": {
      "image/png": "[encoded data removed]",
      "text/plain": [
       "Graphics object consisting of 8 graphics primitives"
      ]
     },
     "metadata": {},
     "output_type": "display_data"
    },
    {
     "data": {
      "image/png": "[encoded data removed]",
      "text/plain": [
       "Graphics object consisting of 8 graphics primitives"
      ]
     },
     "metadata": {},
     "output_type": "display_data"
    },
    {
     "data": {
      "image/png": "[encoded data removed]",
      "text/plain": [
       "Graphics object consisting of 8 graphics primitives"
      ]
     },
     "metadata": {},
     "output_type": "display_data"
    },
    {
     "data": {
      "image/png": "[encoded data removed]",
      "text/plain": [
       "Graphics object consisting of 8 graphics primitives"
      ]
     },
     "metadata": {},
     "output_type": "display_data"
    },
    {
     "data": {
      "image/png": "[encoded data removed]",
      "text/plain": [
       "Graphics object consisting of 8 graphics primitives"
      ]
     },
     "metadata": {},
     "output_type": "display_data"
    },
    {
     "data": {
      "image/png": "[encoded data removed]",
      "text/plain": [
       "Graphics object consisting of 8 graphics primitives"
      ]
     },
     "metadata": {},
     "output_type": "display_data"
    },
    {
     "data": {
      "image/png": "[encoded data removed]",
      "text/plain": [
       "Graphics object consisting of 8 graphics primitives"
      ]
     },
     "metadata": {},
     "output_type": "display_data"
    },
    {
     "data": {
      "image/png": "[encoded data removed]",
      "text/plain": [
       "Graphics object consisting of 8 graphics primitives"
      ]
     },
     "metadata": {},
     "output_type": "display_data"
    },
    {
     "data": {
      "image/png": "[encoded data removed]",
      "text/plain": [
       "Graphics object consisting of 8 graphics primitives"
      ]
     },
     "metadata": {},
     "output_type": "display_data"
    },
    {
     "data": {
      "image/png": "[encoded data removed]",
      "text/plain": [
       "Graphics object consisting of 8 graphics primitives"
      ]
     },
     "metadata": {},
     "output_type": "display_data"
    },
    {
     "data": {
      "image/png": "[encoded data removed]",
      "text/plain": [
       "Graphics object consisting of 8 graphics primitives"
      ]
     },
     "metadata": {},
     "output_type": "display_data"
    },
    {
     "data": {
      "image/png": "[encoded data removed]",
      "text/plain": [
       "Graphics object consisting of 8 graphics primitives"
      ]
     },
     "metadata": {},
     "output_type": "display_data"
    },
    {
     "data": {
      "image/png": "[encoded data removed]",
      "text/plain": [
       "Graphics object consisting of 8 graphics primitives"
      ]
     },
     "metadata": {},
     "output_type": "display_data"
    },
    {
     "data": {
      "image/png": "[encoded data removed]",
      "text/plain": [
       "Graphics object consisting of 8 graphics primitives"
      ]
     },
     "metadata": {},
     "output_type": "display_data"
    },
    {
     "data": {
      "image/png": "[encoded data removed]",
      "text/plain": [
       "Graphics object consisting of 8 graphics primitives"
      ]
     },
     "metadata": {},
     "output_type": "display_data"
    },
    {
     "data": {
      "image/png": "[encoded data removed]",
      "text/plain": [
       "Graphics object consisting of 8 graphics primitives"
      ]
     },
     "metadata": {},
     "output_type": "display_data"
    },
    {
     "data": {
      "image/png": "[encoded data removed]",
      "text/plain": [
       "Graphics object consisting of 8 graphics primitives"
      ]
     },
     "metadata": {},
     "output_type": "display_data"
    },
    {
     "data": {
      "image/png": "[encoded data removed]",
      "text/plain": [
       "Graphics object consisting of 8 graphics primitives"
      ]
     },
     "metadata": {},
     "output_type": "display_data"
    },
    {
     "data": {
      "image/png": "[encoded data removed]",
      "text/plain": [
       "Graphics object consisting of 8 graphics primitives"
      ]
     },
     "metadata": {},
     "output_type": "display_data"
    },
    {
     "data": {
      "image/png": "[encoded data removed]",
      "text/plain": [
       "Graphics object consisting of 8 graphics primitives"
      ]
     },
     "metadata": {},
     "output_type": "display_data"
    },
    {
     "data": {
      "image/png": "[encoded data removed]",
      "text/plain": [
       "Graphics object consisting of 8 graphics primitives"
      ]
     },
     "metadata": {},
     "output_type": "display_data"
    },
    {
     "data": {
      "image/png": "[encoded data removed]",
      "text/plain": [
       "Graphics object consisting of 8 graphics primitives"
      ]
     },
     "metadata": {},
     "output_type": "display_data"
    },
    {
     "data": {
      "image/png": "[encoded data removed]",
      "text/plain": [
       "Graphics object consisting of 8 graphics primitives"
      ]
     },
     "metadata": {},
     "output_type": "display_data"
    },
    {
     "data": {
      "image/png": "[encoded data removed]",
      "text/plain": [
       "Graphics object consisting of 8 graphics primitives"
      ]
     },
     "metadata": {},
     "output_type": "display_data"
    },
    {
     "data": {
      "image/png": "[encoded data removed]",
      "text/plain": [
       "Graphics object consisting of 8 graphics primitives"
      ]
     },
     "metadata": {},
     "output_type": "display_data"
    },
    {
     "data": {
      "image/png": "[encoded data removed]",
      "text/plain": [
       "Graphics object consisting of 8 graphics primitives"
      ]
     },
     "metadata": {},
     "output_type": "display_data"
    },
    {
     "data": {
      "image/png": "[encoded data removed]",
      "text/plain": [
       "Graphics object consisting of 8 graphics primitives"
      ]
     },
     "metadata": {},
     "output_type": "display_data"
    },
    {
     "data": {
      "image/png": "[encoded data removed]",
      "text/plain": [
       "Graphics object consisting of 8 graphics primitives"
      ]
     },
     "metadata": {},
     "output_type": "display_data"
    },
    {
     "data": {
      "image/png": "[encoded data removed]",
      "text/plain": [
       "Graphics object consisting of 8 graphics primitives"
      ]
     },
     "metadata": {},
     "output_type": "display_data"
    },
    {
     "data": {
      "image/png": "[encoded data removed]",
      "text/plain": [
       "Graphics object consisting of 8 graphics primitives"
      ]
     },
     "metadata": {},
     "output_type": "display_data"
    },
    {
     "data": {
      "image/png": "[encoded data removed]",
      "text/plain": [
       "Graphics object consisting of 8 graphics primitives"
      ]
     },
     "metadata": {},
     "output_type": "display_data"
    },
    {
     "data": {
      "image/png": "[encoded data removed]",
      "text/plain": [
       "Graphics object consisting of 8 graphics primitives"
      ]
     },
     "metadata": {},
     "output_type": "display_data"
    },
    {
     "data": {
      "image/png": "[encoded data removed]",
      "text/plain": [
       "Graphics object consisting of 8 graphics primitives"
      ]
     },
     "metadata": {},
     "output_type": "display_data"
    },
    {
     "data": {
      "image/png": "[encoded data removed]",
      "text/plain": [
       "Graphics object consisting of 8 graphics primitives"
      ]
     },
     "metadata": {},
     "output_type": "display_data"
    },
    {
     "data": {
      "image/png": "[encoded data removed]",
      "text/plain": [
       "Graphics object consisting of 8 graphics primitives"
      ]
     },
     "metadata": {},
     "output_type": "display_data"
    },
    {
     "data": {
      "image/png": "[encoded data removed]",
      "text/plain": [
       "Graphics object consisting of 8 graphics primitives"
      ]
     },
     "metadata": {},
     "output_type": "display_data"
    },
    {
     "data": {
      "image/png": "[encoded data removed]",
      "text/plain": [
       "Graphics object consisting of 8 graphics primitives"
      ]
     },
     "metadata": {},
     "output_type": "display_data"
    },
    {
     "data": {
      "image/png": "[encoded data removed]",
      "text/plain": [
       "Graphics object consisting of 8 graphics primitives"
      ]
     },
     "metadata": {},
     "output_type": "display_data"
    },
    {
     "data": {
      "image/png": "[encoded data removed]",
      "text/plain": [
       "Graphics object consisting of 8 graphics primitives"
      ]
     },
     "metadata": {},
     "output_type": "display_data"
    },
    {
     "data": {
      "image/png": "[encoded data removed]",
      "text/plain": [
       "Graphics object consisting of 8 graphics primitives"
      ]
     },
     "metadata": {},
     "output_type": "display_data"
    },
    {
     "data": {
      "image/png": "[encoded data removed]",
      "text/plain": [
       "Graphics object consisting of 8 graphics primitives"
      ]
     },
     "metadata": {},
     "output_type": "display_data"
    },
    {
     "data": {
      "image/png": "[encoded data removed]",
      "text/plain": [
       "Graphics object consisting of 8 graphics primitives"
      ]
     },
     "metadata": {},
     "output_type": "display_data"
    },
    {
     "data": {
      "image/png": "[encoded data removed]",
      "text/plain": [
       "Graphics object consisting of 8 graphics primitives"
      ]
     },
     "metadata": {},
     "output_type": "display_data"
    },
    {
     "data": {
      "image/png": "[encoded data removed]",
      "text/plain": [
       "Graphics object consisting of 8 graphics primitives"
      ]
     },
     "metadata": {},
     "output_type": "display_data"
    },
    {
     "data": {
      "image/png": "[encoded data removed]",
      "text/plain": [
       "Graphics object consisting of 8 graphics primitives"
      ]
     },
     "metadata": {},
     "output_type": "display_data"
    },
    {
     "data": {
      "image/png": "[encoded data removed]",
      "text/plain": [
       "Graphics object consisting of 8 graphics primitives"
      ]
     },
     "metadata": {},
     "output_type": "display_data"
    },
    {
     "data": {
      "image/png": "[encoded data removed]",
      "text/plain": [
       "Graphics object consisting of 8 graphics primitives"
      ]
     },
     "metadata": {},
     "output_type": "display_data"
    },
    {
     "data": {
      "image/png": "[encoded data removed]",
      "text/plain": [
       "Graphics object consisting of 8 graphics primitives"
      ]
     },
     "metadata": {},
     "output_type": "display_data"
    },
    {
     "data": {
      "image/png": "[encoded data removed]",
      "text/plain": [
       "Graphics object consisting of 8 graphics primitives"
      ]
     },
     "metadata": {},
     "output_type": "display_data"
    },
    {
     "data": {
      "image/png": "[encoded data removed]",
      "text/plain": [
       "Graphics object consisting of 8 graphics primitives"
      ]
     },
     "metadata": {},
     "output_type": "display_data"
    },
    {
     "data": {
      "image/png": "[encoded data removed]",
      "text/plain": [
       "Graphics object consisting of 8 graphics primitives"
      ]
     },
     "metadata": {},
     "output_type": "display_data"
    },
    {
     "data": {
      "image/png": "[encoded data removed]",
      "text/plain": [
       "Graphics object consisting of 8 graphics primitives"
      ]
     },
     "metadata": {},
     "output_type": "display_data"
    },
    {
     "data": {
      "image/png": "[encoded data removed]",
      "text/plain": [
       "Graphics object consisting of 8 graphics primitives"
      ]
     },
     "metadata": {},
     "output_type": "display_data"
    },
    {
     "data": {
      "image/png": "[encoded data removed]",
      "text/plain": [
       "Graphics object consisting of 8 graphics primitives"
      ]
     },
     "metadata": {},
     "output_type": "display_data"
    },
    {
     "data": {
      "image/png": "[encoded data removed]",
      "text/plain": [
       "Graphics object consisting of 8 graphics primitives"
      ]
     },
     "metadata": {},
     "output_type": "display_data"
    },
    {
     "data": {
      "image/png": "[encoded data removed]",
      "text/plain": [
       "Graphics object consisting of 8 graphics primitives"
      ]
     },
     "metadata": {},
     "output_type": "display_data"
    },
    {
     "data": {
      "image/png": "[encoded data removed]",
      "text/plain": [
       "Graphics object consisting of 8 graphics primitives"
      ]
     },
     "metadata": {},
     "output_type": "display_data"
    },
    {
     "data": {
      "image/png": "[encoded data removed]",
      "text/plain": [
       "Graphics object consisting of 8 graphics primitives"
      ]
     },
     "metadata": {},
     "output_type": "display_data"
    },
    {
     "data": {
      "image/png": "[encoded data removed]",
      "text/plain": [
       "Graphics object consisting of 8 graphics primitives"
      ]
     },
     "metadata": {},
     "output_type": "display_data"
    },
    {
     "data": {
      "image/png": "[encoded data removed]",
      "text/plain": [
       "Graphics object consisting of 8 graphics primitives"
      ]
     },
     "metadata": {},
     "output_type": "display_data"
    },
    {
     "data": {
      "image/png": "[encoded data removed]",
      "text/plain": [
       "Graphics object consisting of 8 graphics primitives"
      ]
     },
     "metadata": {},
     "output_type": "display_data"
    },
    {
     "data": {
      "image/png": "[encoded data removed]",
      "text/plain": [
       "Graphics object consisting of 8 graphics primitives"
      ]
     },
     "metadata": {},
     "output_type": "display_data"
    },
    {
     "data": {
      "image/png": "[encoded data removed]",
      "text/plain": [
       "Graphics object consisting of 8 graphics primitives"
      ]
     },
     "metadata": {},
     "output_type": "display_data"
    },
    {
     "data": {
      "image/png": "[encoded data removed]",
      "text/plain": [
       "Graphics object consisting of 8 graphics primitives"
      ]
     },
     "metadata": {},
     "output_type": "display_data"
    },
    {
     "data": {
      "image/png": "[encoded data removed]",
      "text/plain": [
       "Graphics object consisting of 8 graphics primitives"
      ]
     },
     "metadata": {},
     "output_type": "display_data"
    },
    {
     "data": {
      "image/png": "[encoded data removed]",
      "text/plain": [
       "Graphics object consisting of 8 graphics primitives"
      ]
     },
     "metadata": {},
     "output_type": "display_data"
    },
    {
     "data": {
      "image/png": "[encoded data removed]",
      "text/plain": [
       "Graphics object consisting of 8 graphics primitives"
      ]
     },
     "metadata": {},
     "output_type": "display_data"
    },
    {
     "data": {
      "image/png": "[encoded data removed]",
      "text/plain": [
       "Graphics object consisting of 8 graphics primitives"
      ]
     },
     "metadata": {},
     "output_type": "display_data"
    },
    {
     "data": {
      "image/png": "[encoded data removed]",
      "text/plain": [
       "Graphics object consisting of 8 graphics primitives"
      ]
     },
     "metadata": {},
     "output_type": "display_data"
    },
    {
     "data": {
      "image/png": "[encoded data removed]",
      "text/plain": [
       "Graphics object consisting of 8 graphics primitives"
      ]
     },
     "metadata": {},
     "output_type": "display_data"
    },
    {
     "data": {
      "image/png": "[encoded data removed]",
      "text/plain": [
       "Graphics object consisting of 8 graphics primitives"
      ]
     },
     "metadata": {},
     "output_type": "display_data"
    },
    {
     "data": {
      "image/png": "[encoded data removed]",
      "text/plain": [
       "Graphics object consisting of 8 graphics primitives"
      ]
     },
     "metadata": {},
     "output_type": "display_data"
    },
    {
     "data": {
      "image/png": "[encoded data removed]",
      "text/plain": [
       "Graphics object consisting of 8 graphics primitives"
      ]
     },
     "metadata": {},
     "output_type": "display_data"
    },
    {
     "data": {
      "image/png": "[encoded data removed]",
      "text/plain": [
       "Graphics object consisting of 8 graphics primitives"
      ]
     },
     "metadata": {},
     "output_type": "display_data"
    },
    {
     "data": {
      "image/png": "[encoded data removed]",
      "text/plain": [
       "Graphics object consisting of 8 graphics primitives"
      ]
     },
     "metadata": {},
     "output_type": "display_data"
    },
    {
     "data": {
      "image/png": "[encoded data removed]",
      "text/plain": [
       "Graphics object consisting of 8 graphics primitives"
      ]
     },
     "metadata": {},
     "output_type": "display_data"
    },
    {
     "data": {
      "image/png": "[encoded data removed]",
      "text/plain": [
       "Graphics object consisting of 8 graphics primitives"
      ]
     },
     "metadata": {},
     "output_type": "display_data"
    },
    {
     "data": {
      "image/png": "[encoded data removed]",
      "text/plain": [
       "Graphics object consisting of 8 graphics primitives"
      ]
     },
     "metadata": {},
     "output_type": "display_data"
    },
    {
     "data": {
      "image/png": "[encoded data removed]",
      "text/plain": [
       "Graphics object consisting of 8 graphics primitives"
      ]
     },
     "metadata": {},
     "output_type": "display_data"
    },
    {
     "data": {
      "image/png": "[encoded data removed]",
      "text/plain": [
       "Graphics object consisting of 8 graphics primitives"
      ]
     },
     "metadata": {},
     "output_type": "display_data"
    },
    {
     "data": {
      "image/png": "[encoded data removed]",
      "text/plain": [
       "Graphics object consisting of 8 graphics primitives"
      ]
     },
     "metadata": {},
     "output_type": "display_data"
    },
    {
     "data": {
      "image/png": "[encoded data removed]",
      "text/plain": [
       "Graphics object consisting of 8 graphics primitives"
      ]
     },
     "metadata": {},
     "output_type": "display_data"
    },
    {
     "data": {
      "image/png": "[encoded data removed]",
      "text/plain": [
       "Graphics object consisting of 8 graphics primitives"
      ]
     },
     "metadata": {},
     "output_type": "display_data"
    },
    {
     "data": {
      "image/png": "[encoded data removed]",
      "text/plain": [
       "Graphics object consisting of 8 graphics primitives"
      ]
     },
     "metadata": {},
     "output_type": "display_data"
    },
    {
     "data": {
      "image/png": "[encoded data removed]",
      "text/plain": [
       "Graphics object consisting of 8 graphics primitives"
      ]
     },
     "metadata": {},
     "output_type": "display_data"
    },
    {
     "data": {
      "image/png": "[encoded data removed]",
      "text/plain": [
       "Graphics object consisting of 8 graphics primitives"
      ]
     },
     "metadata": {},
     "output_type": "display_data"
    },
    {
     "data": {
      "image/png": "[encoded data removed]",
      "text/plain": [
       "Graphics object consisting of 8 graphics primitives"
      ]
     },
     "metadata": {},
     "output_type": "display_data"
    },
    {
     "data": {
      "image/png": "[encoded data removed]",
      "text/plain": [
       "Graphics object consisting of 8 graphics primitives"
      ]
     },
     "metadata": {},
     "output_type": "display_data"
    },
    {
     "data": {
      "image/png": "[encoded data removed]",
      "text/plain": [
       "Graphics object consisting of 8 graphics primitives"
      ]
     },
     "metadata": {},
     "output_type": "display_data"
    },
    {
     "data": {
      "image/png": "[encoded data removed]",
      "text/plain": [
       "Graphics object consisting of 8 graphics primitives"
      ]
     },
     "metadata": {},
     "output_type": "display_data"
    },
    {
     "data": {
      "image/png": "[encoded data removed]",
      "text/plain": [
       "Graphics object consisting of 8 graphics primitives"
      ]
     },
     "metadata": {},
     "output_type": "display_data"
    },
    {
     "data": {
      "image/png": "[encoded data removed]",
      "text/plain": [
       "Graphics object consisting of 8 graphics primitives"
      ]
     },
     "metadata": {},
     "output_type": "display_data"
    },
    {
     "data": {
      "image/png": "[encoded data removed]",
      "text/plain": [
       "Graphics object consisting of 8 graphics primitives"
      ]
     },
     "metadata": {},
     "output_type": "display_data"
    },
    {
     "data": {
      "image/png": "[encoded data removed]",
      "text/plain": [
       "Graphics object consisting of 8 graphics primitives"
      ]
     },
     "metadata": {},
     "output_type": "display_data"
    },
    {
     "data": {
      "image/png": "[encoded data removed]",
      "text/plain": [
       "Graphics object consisting of 8 graphics primitives"
      ]
     },
     "metadata": {},
     "output_type": "display_data"
    },
    {
     "data": {
      "image/png": "[encoded data removed]",
      "text/plain": [
       "Graphics object consisting of 8 graphics primitives"
      ]
     },
     "metadata": {},
     "output_type": "display_data"
    },
    {
     "data": {
      "image/png": "[encoded data removed]",
      "text/plain": [
       "Graphics object consisting of 8 graphics primitives"
      ]
     },
     "metadata": {},
     "output_type": "display_data"
    },
    {
     "data": {
      "image/png": "[encoded data removed]",
      "text/plain": [
       "Graphics object consisting of 8 graphics primitives"
      ]
     },
     "metadata": {},
     "output_type": "display_data"
    },
    {
     "data": {
      "image/png": "[encoded data removed]",
      "text/plain": [
       "Graphics object consisting of 8 graphics primitives"
      ]
     },
     "metadata": {},
     "output_type": "display_data"
    },
    {
     "data": {
      "image/png": "[encoded data removed]",
      "text/plain": [
       "Graphics object consisting of 8 graphics primitives"
      ]
     },
     "metadata": {},
     "output_type": "display_data"
    },
    {
     "data": {
      "image/png": "[encoded data removed]",
      "text/plain": [
       "Graphics object consisting of 8 graphics primitives"
      ]
     },
     "metadata": {},
     "output_type": "display_data"
    },
    {
     "data": {
      "image/png": "[encoded data removed]",
      "text/plain": [
       "Graphics object consisting of 8 graphics primitives"
      ]
     },
     "metadata": {},
     "output_type": "display_data"
    },
    {
     "data": {
      "image/png": "[encoded data removed]",
      "text/plain": [
       "Graphics object consisting of 8 graphics primitives"
      ]
     },
     "metadata": {},
     "output_type": "display_data"
    },
    {
     "data": {
      "image/png": "[encoded data removed]",
      "text/plain": [
       "Graphics object consisting of 8 graphics primitives"
      ]
     },
     "metadata": {},
     "output_type": "display_data"
    },
    {
     "data": {
      "image/png": "[encoded data removed]",
      "text/plain": [
       "Graphics object consisting of 8 graphics primitives"
      ]
     },
     "metadata": {},
     "output_type": "display_data"
    },
    {
     "data": {
      "image/png": "[encoded data removed]",
      "text/plain": [
       "Graphics object consisting of 8 graphics primitives"
      ]
     },
     "metadata": {},
     "output_type": "display_data"
    },
    {
     "data": {
      "image/png": "[encoded data removed]",
      "text/plain": [
       "Graphics object consisting of 8 graphics primitives"
      ]
     },
     "metadata": {},
     "output_type": "display_data"
    },
    {
     "data": {
      "image/png": "[encoded data removed]",
      "text/plain": [
       "Graphics object consisting of 8 graphics primitives"
      ]
     },
     "metadata": {},
     "output_type": "display_data"
    },
    {
     "data": {
      "image/png": "[encoded data removed]",
      "text/plain": [
       "Graphics object consisting of 8 graphics primitives"
      ]
     },
     "metadata": {},
     "output_type": "display_data"
    },
    {
     "data": {
      "image/png": "[encoded data removed]",
      "text/plain": [
       "Graphics object consisting of 8 graphics primitives"
      ]
     },
     "metadata": {},
     "output_type": "display_data"
    },
    {
     "data": {
      "image/png": "[encoded data removed]",
      "text/plain": [
       "Graphics object consisting of 8 graphics primitives"
      ]
     },
     "metadata": {},
     "output_type": "display_data"
    },
    {
     "data": {
      "image/png": "[encoded data removed]",
      "text/plain": [
       "Graphics object consisting of 8 graphics primitives"
      ]
     },
     "metadata": {},
     "output_type": "display_data"
    },
    {
     "data": {
      "image/png": "[encoded data removed]",
      "text/plain": [
       "Graphics object consisting of 8 graphics primitives"
      ]
     },
     "metadata": {},
     "output_type": "display_data"
    },
    {
     "data": {
      "image/png": "[encoded data removed]",
      "text/plain": [
       "Graphics object consisting of 8 graphics primitives"
      ]
     },
     "metadata": {},
     "output_type": "display_data"
    },
    {
     "data": {
      "image/png": "[encoded data removed]",
      "text/plain": [
       "Graphics object consisting of 8 graphics primitives"
      ]
     },
     "metadata": {},
     "output_type": "display_data"
    },
    {
     "data": {
      "image/png": "[encoded data removed]",
      "text/plain": [
       "Graphics object consisting of 8 graphics primitives"
      ]
     },
     "metadata": {},
     "output_type": "display_data"
    },
    {
     "data": {
      "image/png": "[encoded data removed]",
      "text/plain": [
       "Graphics object consisting of 8 graphics primitives"
      ]
     },
     "metadata": {},
     "output_type": "display_data"
    },
    {
     "data": {
      "image/png": "[encoded data removed]",
      "text/plain": [
       "Graphics object consisting of 8 graphics primitives"
      ]
     },
     "metadata": {},
     "output_type": "display_data"
    },
    {
     "data": {
      "image/png": "[encoded data removed]",
      "text/plain": [
       "Graphics object consisting of 8 graphics primitives"
      ]
     },
     "metadata": {},
     "output_type": "display_data"
    },
    {
     "data": {
      "image/png": "[encoded data removed]",
      "text/plain": [
       "Graphics object consisting of 8 graphics primitives"
      ]
     },
     "metadata": {},
     "output_type": "display_data"
    },
    {
     "data": {
      "image/png": "[encoded data removed]",
      "text/plain": [
       "Graphics object consisting of 8 graphics primitives"
      ]
     },
     "metadata": {},
     "output_type": "display_data"
    },
    {
     "data": {
      "image/png": "[encoded data removed]",
      "text/plain": [
       "Graphics object consisting of 8 graphics primitives"
      ]
     },
     "metadata": {},
     "output_type": "display_data"
    },
    {
     "data": {
      "image/png": "[encoded data removed]",
      "text/plain": [
       "Graphics object consisting of 8 graphics primitives"
      ]
     },
     "metadata": {},
     "output_type": "display_data"
    },
    {
     "data": {
      "image/png": "[encoded data removed]",
      "text/plain": [
       "Graphics object consisting of 8 graphics primitives"
      ]
     },
     "metadata": {},
     "output_type": "display_data"
    },
    {
     "data": {
      "image/png": "[encoded data removed]",
      "text/plain": [
       "Graphics object consisting of 8 graphics primitives"
      ]
     },
     "metadata": {},
     "output_type": "display_data"
    },
    {
     "data": {
      "image/png": "[encoded data removed]",
      "text/plain": [
       "Graphics object consisting of 8 graphics primitives"
      ]
     },
     "metadata": {},
     "output_type": "display_data"
    },
    {
     "data": {
      "image/png": "[encoded data removed]",
      "text/plain": [
       "Graphics object consisting of 8 graphics primitives"
      ]
     },
     "metadata": {},
     "output_type": "display_data"
    },
    {
     "data": {
      "image/png": "[encoded data removed]",
      "text/plain": [
       "Graphics object consisting of 8 graphics primitives"
      ]
     },
     "metadata": {},
     "output_type": "display_data"
    },
    {
     "data": {
      "image/png": "[encoded data removed]",
      "text/plain": [
       "Graphics object consisting of 8 graphics primitives"
      ]
     },
     "metadata": {},
     "output_type": "display_data"
    },
    {
     "data": {
      "image/png": "[encoded data removed]",
      "text/plain": [
       "Graphics object consisting of 8 graphics primitives"
      ]
     },
     "metadata": {},
     "output_type": "display_data"
    },
    {
     "data": {
      "image/png": "[encoded data removed]",
      "text/plain": [
       "Graphics object consisting of 8 graphics primitives"
      ]
     },
     "metadata": {},
     "output_type": "display_data"
    },
    {
     "data": {
      "image/png": "[encoded data removed]",
      "text/plain": [
       "Graphics object consisting of 8 graphics primitives"
      ]
     },
     "metadata": {},
     "output_type": "display_data"
    },
    {
     "data": {
      "image/png": "[encoded data removed]",
      "text/plain": [
       "Graphics object consisting of 8 graphics primitives"
      ]
     },
     "metadata": {},
     "output_type": "display_data"
    },
    {
     "data": {
      "image/png": "[encoded data removed]",
      "text/plain": [
       "Graphics object consisting of 8 graphics primitives"
      ]
     },
     "metadata": {},
     "output_type": "display_data"
    },
    {
     "data": {
      "image/png": "[encoded data removed]",
      "text/plain": [
       "Graphics object consisting of 8 graphics primitives"
      ]
     },
     "metadata": {},
     "output_type": "display_data"
    },
    {
     "data": {
      "image/png": "[encoded data removed]",
      "text/plain": [
       "Graphics object consisting of 8 graphics primitives"
      ]
     },
     "metadata": {},
     "output_type": "display_data"
    },
    {
     "data": {
      "image/png": "[encoded data removed]",
      "text/plain": [
       "Graphics object consisting of 8 graphics primitives"
      ]
     },
     "metadata": {},
     "output_type": "display_data"
    },
    {
     "data": {
      "image/png": "[encoded data removed]",
      "text/plain": [
       "Graphics object consisting of 8 graphics primitives"
      ]
     },
     "metadata": {},
     "output_type": "display_data"
    },
    {
     "data": {
      "image/png": "[encoded data removed]",
      "text/plain": [
       "Graphics object consisting of 8 graphics primitives"
      ]
     },
     "metadata": {},
     "output_type": "display_data"
    },
    {
     "data": {
      "image/png": "[encoded data removed]",
      "text/plain": [
       "Graphics object consisting of 8 graphics primitives"
      ]
     },
     "metadata": {},
     "output_type": "display_data"
    },
    {
     "data": {
      "image/png": "[encoded data removed]",
      "text/plain": [
       "Graphics object consisting of 8 graphics primitives"
      ]
     },
     "metadata": {},
     "output_type": "display_data"
    },
    {
     "data": {
      "image/png": "[encoded data removed]",
      "text/plain": [
       "Graphics object consisting of 8 graphics primitives"
      ]
     },
     "metadata": {},
     "output_type": "display_data"
    },
    {
     "data": {
      "image/png": "[encoded data removed]",
      "text/plain": [
       "Graphics object consisting of 8 graphics primitives"
      ]
     },
     "metadata": {},
     "output_type": "display_data"
    },
    {
     "data": {
      "image/png": "[encoded data removed]",
      "text/plain": [
       "Graphics object consisting of 8 graphics primitives"
      ]
     },
     "metadata": {},
     "output_type": "display_data"
    },
    {
     "data": {
      "image/png": "[encoded data removed]",
      "text/plain": [
       "Graphics object consisting of 8 graphics primitives"
      ]
     },
     "metadata": {},
     "output_type": "display_data"
    },
    {
     "data": {
      "image/png": "[encoded data removed]",
      "text/plain": [
       "Graphics object consisting of 8 graphics primitives"
      ]
     },
     "metadata": {},
     "output_type": "display_data"
    },
    {
     "data": {
      "image/png": "[encoded data removed]",
      "text/plain": [
       "Graphics object consisting of 8 graphics primitives"
      ]
     },
     "metadata": {},
     "output_type": "display_data"
    },
    {
     "data": {
      "image/png": "[encoded data removed]",
      "text/plain": [
       "Graphics object consisting of 8 graphics primitives"
      ]
     },
     "metadata": {},
     "output_type": "display_data"
    },
    {
     "data": {
      "image/png": "[encoded data removed]",
      "text/plain": [
       "Graphics object consisting of 8 graphics primitives"
      ]
     },
     "metadata": {},
     "output_type": "display_data"
    },
    {
     "data": {
      "image/png": "[encoded data removed]",
      "text/plain": [
       "Graphics object consisting of 8 graphics primitives"
      ]
     },
     "metadata": {},
     "output_type": "display_data"
    },
    {
     "data": {
      "image/png": "[encoded data removed]",
      "text/plain": [
       "Graphics object consisting of 8 graphics primitives"
      ]
     },
     "metadata": {},
     "output_type": "display_data"
    },
    {
     "data": {
      "image/png": "[encoded data removed]",
      "text/plain": [
       "Graphics object consisting of 8 graphics primitives"
      ]
     },
     "metadata": {},
     "output_type": "display_data"
    },
    {
     "data": {
      "image/png": "[encoded data removed]",
      "text/plain": [
       "Graphics object consisting of 8 graphics primitives"
      ]
     },
     "metadata": {},
     "output_type": "display_data"
    },
    {
     "data": {
      "image/png": "[encoded data removed]",
      "text/plain": [
       "Graphics object consisting of 8 graphics primitives"
      ]
     },
     "metadata": {},
     "output_type": "display_data"
    },
    {
     "data": {
      "image/png": "[encoded data removed]",
      "text/plain": [
       "Graphics object consisting of 8 graphics primitives"
      ]
     },
     "metadata": {},
     "output_type": "display_data"
    },
    {
     "data": {
      "image/png": "[encoded data removed]",
      "text/plain": [
       "Graphics object consisting of 8 graphics primitives"
      ]
     },
     "metadata": {},
     "output_type": "display_data"
    },
    {
     "data": {
      "image/png": "[encoded data removed]",
      "text/plain": [
       "Graphics object consisting of 8 graphics primitives"
      ]
     },
     "metadata": {},
     "output_type": "display_data"
    },
    {
     "data": {
      "image/png": "[encoded data removed]",
      "text/plain": [
       "Graphics object consisting of 8 graphics primitives"
      ]
     },
     "metadata": {},
     "output_type": "display_data"
    },
    {
     "data": {
      "image/png": "[encoded data removed]",
      "text/plain": [
       "Graphics object consisting of 8 graphics primitives"
      ]
     },
     "metadata": {},
     "output_type": "display_data"
    },
    {
     "data": {
      "image/png": "[encoded data removed]",
      "text/plain": [
       "Graphics object consisting of 8 graphics primitives"
      ]
     },
     "metadata": {},
     "output_type": "display_data"
    },
    {
     "data": {
      "image/png": "[encoded data removed]",
      "text/plain": [
       "Graphics object consisting of 8 graphics primitives"
      ]
     },
     "metadata": {},
     "output_type": "display_data"
    },
    {
     "data": {
      "image/png": "[encoded data removed]",
      "text/plain": [
       "Graphics object consisting of 8 graphics primitives"
      ]
     },
     "metadata": {},
     "output_type": "display_data"
    },
    {
     "data": {
      "image/png": "[encoded data removed]",
      "text/plain": [
       "Graphics object consisting of 8 graphics primitives"
      ]
     },
     "metadata": {},
     "output_type": "display_data"
    },
    {
     "data": {
      "image/png": "[encoded data removed]",
      "text/plain": [
       "Graphics object consisting of 8 graphics primitives"
      ]
     },
     "metadata": {},
     "output_type": "display_data"
    },
    {
     "data": {
      "image/png": "[encoded data removed]",
      "text/plain": [
       "Graphics object consisting of 8 graphics primitives"
      ]
     },
     "metadata": {},
     "output_type": "display_data"
    },
    {
     "data": {
      "image/png": "[encoded data removed]",
      "text/plain": [
       "Graphics object consisting of 8 graphics primitives"
      ]
     },
     "metadata": {},
     "output_type": "display_data"
    },
    {
     "data": {
      "image/png": "[encoded data removed]",
      "text/plain": [
       "Graphics object consisting of 8 graphics primitives"
      ]
     },
     "metadata": {},
     "output_type": "display_data"
    },
    {
     "data": {
      "image/png": "[encoded data removed]",
      "text/plain": [
       "Graphics object consisting of 8 graphics primitives"
      ]
     },
     "metadata": {},
     "output_type": "display_data"
    },
    {
     "data": {
      "image/png": "[encoded data removed]",
      "text/plain": [
       "Graphics object consisting of 8 graphics primitives"
      ]
     },
     "metadata": {},
     "output_type": "display_data"
    },
    {
     "data": {
      "text/plain": [
       "192"
      ]
     },
     "execution_count": 66,
     "metadata": {},
     "output_type": "execute_result"
    }
   ],
   "source": [
    "l = Labyrinthe((3, 3))\n",
    "l.EnumereDessine()"
   ]
  },
  {
   "cell_type": "code",
   "execution_count": 67,
   "id": "1667504b",
   "metadata": {
    "hidden": true
   },
   "outputs": [
    {
     "data": {
      "text/plain": [
       "192"
      ]
     },
     "execution_count": 67,
     "metadata": {},
     "output_type": "execute_result"
    }
   ],
   "source": [
    "l.CompteTotal()"
   ]
  },
  {
   "cell_type": "markdown",
   "id": "f3003141",
   "metadata": {},
   "source": [
    "#### Par les arbres couvrants"
   ]
  },
  {
   "cell_type": "code",
   "execution_count": 68,
   "id": "323f14c1",
   "metadata": {},
   "outputs": [
    {
     "data": {
      "text/plain": [
       "192.0"
      ]
     },
     "execution_count": 68,
     "metadata": {},
     "output_type": "execute_result"
    }
   ],
   "source": [
    "l.compteAC()"
   ]
  },
  {
   "cell_type": "code",
   "execution_count": 70,
   "id": "29765fd6",
   "metadata": {},
   "outputs": [
    {
     "data": {
      "text/html": [
       "<div>\n",
       "<style scoped>\n",
       "    .dataframe tbody tr th:only-of-type {\n",
       "        vertical-align: middle;\n",
       "    }\n",
       "\n",
       "    .dataframe tbody tr th {\n",
       "        vertical-align: top;\n",
       "    }\n",
       "\n",
       "    .dataframe thead th {\n",
       "        text-align: right;\n",
       "    }\n",
       "</style>\n",
       "<table border=\"1\" class=\"dataframe\">\n",
       "  <thead>\n",
       "    <tr style=\"text-align: right;\">\n",
       "      <th></th>\n",
       "      <th>1</th>\n",
       "      <th>2</th>\n",
       "      <th>3</th>\n",
       "      <th>4</th>\n",
       "      <th>5</th>\n",
       "      <th>6</th>\n",
       "      <th>7</th>\n",
       "      <th>8</th>\n",
       "      <th>9</th>\n",
       "      <th>10</th>\n",
       "      <th>...</th>\n",
       "      <th>16</th>\n",
       "      <th>17</th>\n",
       "      <th>18</th>\n",
       "      <th>19</th>\n",
       "      <th>20</th>\n",
       "      <th>21</th>\n",
       "      <th>22</th>\n",
       "      <th>23</th>\n",
       "      <th>24</th>\n",
       "      <th>25</th>\n",
       "    </tr>\n",
       "  </thead>\n",
       "  <tbody>\n",
       "    <tr>\n",
       "      <th>1</th>\n",
       "      <td>1.0</td>\n",
       "      <td>1.000000e+00</td>\n",
       "      <td>1.000000e+00</td>\n",
       "      <td>1.000000e+00</td>\n",
       "      <td>1.000000e+00</td>\n",
       "      <td>1.000000e+00</td>\n",
       "      <td>1.000000e+00</td>\n",
       "      <td>1.000000e+00</td>\n",
       "      <td>1.000000e+00</td>\n",
       "      <td>1.000000e+00</td>\n",
       "      <td>...</td>\n",
       "      <td>1.000000e+00</td>\n",
       "      <td>1.000000e+00</td>\n",
       "      <td>1.000000e+00</td>\n",
       "      <td>1.000000e+00</td>\n",
       "      <td>1.000000e+00</td>\n",
       "      <td>1.000000e+00</td>\n",
       "      <td>1.000000e+00</td>\n",
       "      <td>1.000000e+00</td>\n",
       "      <td>1.000000e+00</td>\n",
       "      <td>1.000000e+00</td>\n",
       "    </tr>\n",
       "    <tr>\n",
       "      <th>2</th>\n",
       "      <td>1.0</td>\n",
       "      <td>4.000000e+00</td>\n",
       "      <td>1.500000e+01</td>\n",
       "      <td>5.600000e+01</td>\n",
       "      <td>2.090000e+02</td>\n",
       "      <td>7.800000e+02</td>\n",
       "      <td>2.911000e+03</td>\n",
       "      <td>1.086400e+04</td>\n",
       "      <td>4.054500e+04</td>\n",
       "      <td>1.513160e+05</td>\n",
       "      <td>...</td>\n",
       "      <td>4.088558e+08</td>\n",
       "      <td>1.525871e+09</td>\n",
       "      <td>5.694626e+09</td>\n",
       "      <td>2.125263e+10</td>\n",
       "      <td>7.931591e+10</td>\n",
       "      <td>2.960110e+11</td>\n",
       "      <td>1.104728e+12</td>\n",
       "      <td>4.122902e+12</td>\n",
       "      <td>1.538688e+13</td>\n",
       "      <td>5.742461e+13</td>\n",
       "    </tr>\n",
       "    <tr>\n",
       "      <th>3</th>\n",
       "      <td>1.0</td>\n",
       "      <td>1.500000e+01</td>\n",
       "      <td>1.920000e+02</td>\n",
       "      <td>2.415000e+03</td>\n",
       "      <td>3.030500e+04</td>\n",
       "      <td>3.801600e+05</td>\n",
       "      <td>4.768673e+06</td>\n",
       "      <td>5.981714e+07</td>\n",
       "      <td>7.503316e+08</td>\n",
       "      <td>9.411975e+09</td>\n",
       "      <td>...</td>\n",
       "      <td>3.666452e+16</td>\n",
       "      <td>4.599108e+17</td>\n",
       "      <td>5.769008e+18</td>\n",
       "      <td>7.236502e+19</td>\n",
       "      <td>9.077290e+20</td>\n",
       "      <td>1.138633e+22</td>\n",
       "      <td>1.428273e+23</td>\n",
       "      <td>1.791591e+24</td>\n",
       "      <td>2.247328e+25</td>\n",
       "      <td>2.818993e+26</td>\n",
       "    </tr>\n",
       "    <tr>\n",
       "      <th>4</th>\n",
       "      <td>1.0</td>\n",
       "      <td>5.600000e+01</td>\n",
       "      <td>2.415000e+03</td>\n",
       "      <td>1.003520e+05</td>\n",
       "      <td>4.140081e+06</td>\n",
       "      <td>1.705376e+08</td>\n",
       "      <td>7.022360e+09</td>\n",
       "      <td>2.891430e+11</td>\n",
       "      <td>1.190515e+13</td>\n",
       "      <td>4.901799e+14</td>\n",
       "      <td>...</td>\n",
       "      <td>2.388229e+24</td>\n",
       "      <td>9.833227e+25</td>\n",
       "      <td>4.048705e+27</td>\n",
       "      <td>1.667002e+29</td>\n",
       "      <td>6.863668e+30</td>\n",
       "      <td>2.826027e+32</td>\n",
       "      <td>1.163580e+34</td>\n",
       "      <td>4.790893e+35</td>\n",
       "      <td>1.972589e+37</td>\n",
       "      <td>8.121881e+38</td>\n",
       "    </tr>\n",
       "    <tr>\n",
       "      <th>5</th>\n",
       "      <td>1.0</td>\n",
       "      <td>2.090000e+02</td>\n",
       "      <td>3.030500e+04</td>\n",
       "      <td>4.140081e+06</td>\n",
       "      <td>5.575680e+08</td>\n",
       "      <td>7.479519e+10</td>\n",
       "      <td>1.002199e+13</td>\n",
       "      <td>1.342421e+15</td>\n",
       "      <td>1.797963e+17</td>\n",
       "      <td>2.408019e+19</td>\n",
       "      <td>...</td>\n",
       "      <td>1.389649e+32</td>\n",
       "      <td>1.861139e+34</td>\n",
       "      <td>2.492600e+36</td>\n",
       "      <td>3.338308e+38</td>\n",
       "      <td>4.470954e+40</td>\n",
       "      <td>5.987893e+42</td>\n",
       "      <td>8.019510e+44</td>\n",
       "      <td>1.074043e+47</td>\n",
       "      <td>1.438452e+49</td>\n",
       "      <td>1.926501e+51</td>\n",
       "    </tr>\n",
       "    <tr>\n",
       "      <th>6</th>\n",
       "      <td>1.0</td>\n",
       "      <td>7.800000e+02</td>\n",
       "      <td>3.801600e+05</td>\n",
       "      <td>1.705376e+08</td>\n",
       "      <td>7.479519e+10</td>\n",
       "      <td>3.256554e+13</td>\n",
       "      <td>1.414326e+16</td>\n",
       "      <td>6.136974e+18</td>\n",
       "      <td>2.662079e+21</td>\n",
       "      <td>1.154618e+24</td>\n",
       "      <td>...</td>\n",
       "      <td>7.684071e+39</td>\n",
       "      <td>3.332583e+42</td>\n",
       "      <td>1.445342e+45</td>\n",
       "      <td>6.268450e+47</td>\n",
       "      <td>2.718628e+50</td>\n",
       "      <td>1.179070e+53</td>\n",
       "      <td>5.113627e+55</td>\n",
       "      <td>2.217781e+58</td>\n",
       "      <td>9.618519e+60</td>\n",
       "      <td>4.171553e+63</td>\n",
       "    </tr>\n",
       "    <tr>\n",
       "      <th>7</th>\n",
       "      <td>1.0</td>\n",
       "      <td>2.911000e+03</td>\n",
       "      <td>4.768673e+06</td>\n",
       "      <td>7.022360e+09</td>\n",
       "      <td>1.002199e+13</td>\n",
       "      <td>1.414326e+16</td>\n",
       "      <td>1.987237e+19</td>\n",
       "      <td>2.787318e+22</td>\n",
       "      <td>3.906713e+25</td>\n",
       "      <td>5.474042e+28</td>\n",
       "      <td>...</td>\n",
       "      <td>4.138179e+47</td>\n",
       "      <td>5.797166e+50</td>\n",
       "      <td>8.121235e+53</td>\n",
       "      <td>1.137702e+57</td>\n",
       "      <td>1.593803e+60</td>\n",
       "      <td>2.232755e+63</td>\n",
       "      <td>3.127860e+66</td>\n",
       "      <td>4.381811e+69</td>\n",
       "      <td>6.138468e+72</td>\n",
       "      <td>8.599363e+75</td>\n",
       "    </tr>\n",
       "    <tr>\n",
       "      <th>8</th>\n",
       "      <td>1.0</td>\n",
       "      <td>1.086400e+04</td>\n",
       "      <td>5.981714e+07</td>\n",
       "      <td>2.891430e+11</td>\n",
       "      <td>1.342421e+15</td>\n",
       "      <td>6.136974e+18</td>\n",
       "      <td>2.787318e+22</td>\n",
       "      <td>1.262313e+26</td>\n",
       "      <td>5.709297e+29</td>\n",
       "      <td>2.580716e+33</td>\n",
       "      <td>...</td>\n",
       "      <td>2.195627e+55</td>\n",
       "      <td>9.919700e+58</td>\n",
       "      <td>4.481650e+62</td>\n",
       "      <td>2.024776e+66</td>\n",
       "      <td>9.147789e+69</td>\n",
       "      <td>4.132902e+73</td>\n",
       "      <td>1.867214e+77</td>\n",
       "      <td>8.435932e+80</td>\n",
       "      <td>3.811291e+84</td>\n",
       "      <td>1.721912e+88</td>\n",
       "    </tr>\n",
       "    <tr>\n",
       "      <th>9</th>\n",
       "      <td>1.0</td>\n",
       "      <td>4.054500e+04</td>\n",
       "      <td>7.503316e+08</td>\n",
       "      <td>1.190515e+13</td>\n",
       "      <td>1.797963e+17</td>\n",
       "      <td>2.662079e+21</td>\n",
       "      <td>3.906713e+25</td>\n",
       "      <td>5.709297e+29</td>\n",
       "      <td>8.326628e+33</td>\n",
       "      <td>1.213164e+38</td>\n",
       "      <td>...</td>\n",
       "      <td>1.154640e+63</td>\n",
       "      <td>1.680610e+67</td>\n",
       "      <td>2.446163e+71</td>\n",
       "      <td>3.560435e+75</td>\n",
       "      <td>5.182273e+79</td>\n",
       "      <td>7.542881e+83</td>\n",
       "      <td>1.097878e+88</td>\n",
       "      <td>1.597979e+92</td>\n",
       "      <td>2.325883e+96</td>\n",
       "      <td>3.385358e+100</td>\n",
       "    </tr>\n",
       "    <tr>\n",
       "      <th>10</th>\n",
       "      <td>1.0</td>\n",
       "      <td>1.513160e+05</td>\n",
       "      <td>9.411975e+09</td>\n",
       "      <td>4.901799e+14</td>\n",
       "      <td>2.408019e+19</td>\n",
       "      <td>1.154618e+24</td>\n",
       "      <td>5.474042e+28</td>\n",
       "      <td>2.580716e+33</td>\n",
       "      <td>1.213164e+38</td>\n",
       "      <td>5.694319e+42</td>\n",
       "      <td>...</td>\n",
       "      <td>6.038635e+70</td>\n",
       "      <td>2.829599e+75</td>\n",
       "      <td>1.325888e+80</td>\n",
       "      <td>6.212784e+84</td>\n",
       "      <td>2.911149e+89</td>\n",
       "      <td>1.364087e+94</td>\n",
       "      <td>6.391742e+98</td>\n",
       "      <td>2.994996e+103</td>\n",
       "      <td>1.403373e+108</td>\n",
       "      <td>6.575820e+112</td>\n",
       "    </tr>\n",
       "    <tr>\n",
       "      <th>11</th>\n",
       "      <td>1.0</td>\n",
       "      <td>5.647190e+05</td>\n",
       "      <td>1.180615e+11</td>\n",
       "      <td>2.018253e+16</td>\n",
       "      <td>3.225041e+21</td>\n",
       "      <td>5.007694e+26</td>\n",
       "      <td>7.669229e+31</td>\n",
       "      <td>1.166218e+37</td>\n",
       "      <td>1.766659e+42</td>\n",
       "      <td>2.670648e+47</td>\n",
       "      <td>...</td>\n",
       "      <td>3.147049e+78</td>\n",
       "      <td>4.744942e+83</td>\n",
       "      <td>7.154001e+88</td>\n",
       "      <td>1.078603e+94</td>\n",
       "      <td>1.626191e+99</td>\n",
       "      <td>2.451770e+104</td>\n",
       "      <td>3.696468e+109</td>\n",
       "      <td>5.573058e+114</td>\n",
       "      <td>8.402332e+119</td>\n",
       "      <td>1.266794e+125</td>\n",
       "    </tr>\n",
       "    <tr>\n",
       "      <th>12</th>\n",
       "      <td>1.0</td>\n",
       "      <td>2.107560e+06</td>\n",
       "      <td>1.480935e+12</td>\n",
       "      <td>8.309899e+17</td>\n",
       "      <td>4.319262e+23</td>\n",
       "      <td>2.171856e+29</td>\n",
       "      <td>1.074418e+35</td>\n",
       "      <td>5.269447e+40</td>\n",
       "      <td>2.572040e+46</td>\n",
       "      <td>1.252006e+52</td>\n",
       "      <td>...</td>\n",
       "      <td>1.636352e+86</td>\n",
       "      <td>7.935627e+91</td>\n",
       "      <td>3.848297e+97</td>\n",
       "      <td>1.866146e+103</td>\n",
       "      <td>9.049333e+108</td>\n",
       "      <td>4.388175e+114</td>\n",
       "      <td>2.127890e+120</td>\n",
       "      <td>1.031842e+126</td>\n",
       "      <td>5.003527e+131</td>\n",
       "      <td>2.426269e+137</td>\n",
       "    </tr>\n",
       "    <tr>\n",
       "      <th>13</th>\n",
       "      <td>1.0</td>\n",
       "      <td>7.865521e+06</td>\n",
       "      <td>1.857648e+13</td>\n",
       "      <td>3.421494e+19</td>\n",
       "      <td>5.784736e+25</td>\n",
       "      <td>9.419370e+31</td>\n",
       "      <td>1.505172e+38</td>\n",
       "      <td>2.380813e+44</td>\n",
       "      <td>3.744112e+50</td>\n",
       "      <td>5.868094e+56</td>\n",
       "      <td>...</td>\n",
       "      <td>8.495671e+93</td>\n",
       "      <td>1.324825e+100</td>\n",
       "      <td>2.065809e+106</td>\n",
       "      <td>3.221101e+112</td>\n",
       "      <td>5.022354e+118</td>\n",
       "      <td>7.830753e+124</td>\n",
       "      <td>1.220943e+131</td>\n",
       "      <td>1.903641e+137</td>\n",
       "      <td>2.968061e+143</td>\n",
       "      <td>4.627641e+149</td>\n",
       "    </tr>\n",
       "    <tr>\n",
       "      <th>14</th>\n",
       "      <td>1.0</td>\n",
       "      <td>2.935452e+07</td>\n",
       "      <td>2.330188e+14</td>\n",
       "      <td>1.408756e+21</td>\n",
       "      <td>7.747425e+27</td>\n",
       "      <td>4.085187e+34</td>\n",
       "      <td>2.108604e+41</td>\n",
       "      <td>1.075658e+48</td>\n",
       "      <td>5.449953e+54</td>\n",
       "      <td>2.750014e+61</td>\n",
       "      <td>...</td>\n",
       "      <td>4.406421e+101</td>\n",
       "      <td>2.209088e+108</td>\n",
       "      <td>1.107377e+115</td>\n",
       "      <td>5.550725e+121</td>\n",
       "      <td>2.782184e+128</td>\n",
       "      <td>1.394474e+135</td>\n",
       "      <td>6.989199e+141</td>\n",
       "      <td>3.502997e+148</td>\n",
       "      <td>1.755695e+155</td>\n",
       "      <td>8.799469e+161</td>\n",
       "    </tr>\n",
       "    <tr>\n",
       "      <th>15</th>\n",
       "      <td>1.0</td>\n",
       "      <td>1.095526e+08</td>\n",
       "      <td>2.922931e+15</td>\n",
       "      <td>5.800373e+22</td>\n",
       "      <td>1.037603e+30</td>\n",
       "      <td>1.771747e+37</td>\n",
       "      <td>2.953945e+44</td>\n",
       "      <td>4.859791e+51</td>\n",
       "      <td>7.932738e+58</td>\n",
       "      <td>1.288678e+66</td>\n",
       "      <td>...</td>\n",
       "      <td>2.283945e+109</td>\n",
       "      <td>3.680543e+116</td>\n",
       "      <td>5.930267e+123</td>\n",
       "      <td>9.554204e+130</td>\n",
       "      <td>1.539172e+138</td>\n",
       "      <td>2.479484e+145</td>\n",
       "      <td>3.994144e+152</td>\n",
       "      <td>6.433957e+159</td>\n",
       "      <td>1.036400e+167</td>\n",
       "      <td>1.669449e+174</td>\n",
       "    </tr>\n",
       "    <tr>\n",
       "      <th>16</th>\n",
       "      <td>1.0</td>\n",
       "      <td>4.088558e+08</td>\n",
       "      <td>3.666452e+16</td>\n",
       "      <td>2.388229e+24</td>\n",
       "      <td>1.389649e+32</td>\n",
       "      <td>7.684071e+39</td>\n",
       "      <td>4.138179e+47</td>\n",
       "      <td>2.195627e+55</td>\n",
       "      <td>1.154640e+63</td>\n",
       "      <td>6.038635e+70</td>\n",
       "      <td>...</td>\n",
       "      <td>1.183291e+117</td>\n",
       "      <td>6.128690e+124</td>\n",
       "      <td>3.173628e+132</td>\n",
       "      <td>1.643181e+140</td>\n",
       "      <td>8.506972e+147</td>\n",
       "      <td>4.403902e+155</td>\n",
       "      <td>2.279723e+163</td>\n",
       "      <td>1.180088e+171</td>\n",
       "      <td>6.108550e+178</td>\n",
       "      <td>3.161960e+186</td>\n",
       "    </tr>\n",
       "    <tr>\n",
       "      <th>17</th>\n",
       "      <td>1.0</td>\n",
       "      <td>1.525871e+09</td>\n",
       "      <td>4.599108e+17</td>\n",
       "      <td>9.833227e+25</td>\n",
       "      <td>1.861139e+34</td>\n",
       "      <td>3.332583e+42</td>\n",
       "      <td>5.797166e+50</td>\n",
       "      <td>9.919700e+58</td>\n",
       "      <td>1.680610e+67</td>\n",
       "      <td>2.829599e+75</td>\n",
       "      <td>...</td>\n",
       "      <td>6.128690e+124</td>\n",
       "      <td>1.020132e+133</td>\n",
       "      <td>1.697580e+141</td>\n",
       "      <td>2.824393e+149</td>\n",
       "      <td>4.698567e+157</td>\n",
       "      <td>7.815700e+165</td>\n",
       "      <td>1.300003e+174</td>\n",
       "      <td>2.162235e+182</td>\n",
       "      <td>3.596242e+190</td>\n",
       "      <td>5.981172e+198</td>\n",
       "    </tr>\n",
       "    <tr>\n",
       "      <th>18</th>\n",
       "      <td>1.0</td>\n",
       "      <td>5.694626e+09</td>\n",
       "      <td>5.769008e+18</td>\n",
       "      <td>4.048705e+27</td>\n",
       "      <td>2.492600e+36</td>\n",
       "      <td>1.445342e+45</td>\n",
       "      <td>8.121235e+53</td>\n",
       "      <td>4.481650e+62</td>\n",
       "      <td>2.446163e+71</td>\n",
       "      <td>1.325888e+80</td>\n",
       "      <td>...</td>\n",
       "      <td>3.173628e+132</td>\n",
       "      <td>1.697580e+141</td>\n",
       "      <td>9.077353e+149</td>\n",
       "      <td>4.852728e+158</td>\n",
       "      <td>2.593825e+167</td>\n",
       "      <td>1.386261e+176</td>\n",
       "      <td>7.408214e+184</td>\n",
       "      <td>3.958740e+193</td>\n",
       "      <td>2.115352e+202</td>\n",
       "      <td>1.130305e+211</td>\n",
       "    </tr>\n",
       "    <tr>\n",
       "      <th>19</th>\n",
       "      <td>1.0</td>\n",
       "      <td>2.125263e+10</td>\n",
       "      <td>7.236502e+19</td>\n",
       "      <td>1.667002e+29</td>\n",
       "      <td>3.338308e+38</td>\n",
       "      <td>6.268450e+47</td>\n",
       "      <td>1.137702e+57</td>\n",
       "      <td>2.024776e+66</td>\n",
       "      <td>3.560435e+75</td>\n",
       "      <td>6.212784e+84</td>\n",
       "      <td>...</td>\n",
       "      <td>1.643181e+140</td>\n",
       "      <td>2.824393e+149</td>\n",
       "      <td>4.852728e+158</td>\n",
       "      <td>8.335254e+167</td>\n",
       "      <td>1.431397e+177</td>\n",
       "      <td>2.457741e+186</td>\n",
       "      <td>4.219538e+195</td>\n",
       "      <td>7.243693e+204</td>\n",
       "      <td>1.243457e+214</td>\n",
       "      <td>2.134442e+223</td>\n",
       "    </tr>\n",
       "    <tr>\n",
       "      <th>20</th>\n",
       "      <td>1.0</td>\n",
       "      <td>7.931591e+10</td>\n",
       "      <td>9.077290e+20</td>\n",
       "      <td>6.863668e+30</td>\n",
       "      <td>4.470954e+40</td>\n",
       "      <td>2.718628e+50</td>\n",
       "      <td>1.593803e+60</td>\n",
       "      <td>9.147789e+69</td>\n",
       "      <td>5.182273e+79</td>\n",
       "      <td>2.911149e+89</td>\n",
       "      <td>...</td>\n",
       "      <td>8.506972e+147</td>\n",
       "      <td>4.698567e+157</td>\n",
       "      <td>2.593825e+167</td>\n",
       "      <td>1.431397e+177</td>\n",
       "      <td>7.897079e+186</td>\n",
       "      <td>4.356024e+196</td>\n",
       "      <td>2.402448e+206</td>\n",
       "      <td>1.324873e+216</td>\n",
       "      <td>7.305706e+225</td>\n",
       "      <td>4.028348e+235</td>\n",
       "    </tr>\n",
       "    <tr>\n",
       "      <th>21</th>\n",
       "      <td>1.0</td>\n",
       "      <td>2.960110e+11</td>\n",
       "      <td>1.138633e+22</td>\n",
       "      <td>2.826027e+32</td>\n",
       "      <td>5.987893e+42</td>\n",
       "      <td>1.179070e+53</td>\n",
       "      <td>2.232755e+63</td>\n",
       "      <td>4.132902e+73</td>\n",
       "      <td>7.542881e+83</td>\n",
       "      <td>1.364087e+94</td>\n",
       "      <td>...</td>\n",
       "      <td>4.403902e+155</td>\n",
       "      <td>7.815700e+165</td>\n",
       "      <td>1.386261e+176</td>\n",
       "      <td>2.457741e+186</td>\n",
       "      <td>4.356024e+196</td>\n",
       "      <td>7.718688e+206</td>\n",
       "      <td>1.367483e+217</td>\n",
       "      <td>2.422397e+227</td>\n",
       "      <td>4.290698e+237</td>\n",
       "      <td>7.599416e+247</td>\n",
       "    </tr>\n",
       "    <tr>\n",
       "      <th>22</th>\n",
       "      <td>1.0</td>\n",
       "      <td>1.104728e+12</td>\n",
       "      <td>1.428273e+23</td>\n",
       "      <td>1.163580e+34</td>\n",
       "      <td>8.019510e+44</td>\n",
       "      <td>5.113627e+55</td>\n",
       "      <td>3.127860e+66</td>\n",
       "      <td>1.867214e+77</td>\n",
       "      <td>1.097878e+88</td>\n",
       "      <td>6.391742e+98</td>\n",
       "      <td>...</td>\n",
       "      <td>2.279723e+163</td>\n",
       "      <td>1.300003e+174</td>\n",
       "      <td>7.408214e+184</td>\n",
       "      <td>4.219538e+195</td>\n",
       "      <td>2.402448e+206</td>\n",
       "      <td>1.367483e+217</td>\n",
       "      <td>7.782145e+227</td>\n",
       "      <td>4.428012e+238</td>\n",
       "      <td>2.519227e+249</td>\n",
       "      <td>1.433137e+260</td>\n",
       "    </tr>\n",
       "    <tr>\n",
       "      <th>23</th>\n",
       "      <td>1.0</td>\n",
       "      <td>4.122902e+12</td>\n",
       "      <td>1.791591e+24</td>\n",
       "      <td>4.790893e+35</td>\n",
       "      <td>1.074043e+47</td>\n",
       "      <td>2.217781e+58</td>\n",
       "      <td>4.381811e+69</td>\n",
       "      <td>8.435932e+80</td>\n",
       "      <td>1.597979e+92</td>\n",
       "      <td>2.994996e+103</td>\n",
       "      <td>...</td>\n",
       "      <td>1.180088e+171</td>\n",
       "      <td>2.162235e+182</td>\n",
       "      <td>3.958740e+193</td>\n",
       "      <td>7.243693e+204</td>\n",
       "      <td>1.324873e+216</td>\n",
       "      <td>2.422397e+227</td>\n",
       "      <td>4.428012e+238</td>\n",
       "      <td>8.092642e+249</td>\n",
       "      <td>1.478801e+261</td>\n",
       "      <td>2.701981e+272</td>\n",
       "    </tr>\n",
       "    <tr>\n",
       "      <th>24</th>\n",
       "      <td>1.0</td>\n",
       "      <td>1.538688e+13</td>\n",
       "      <td>2.247328e+25</td>\n",
       "      <td>1.972589e+37</td>\n",
       "      <td>1.438452e+49</td>\n",
       "      <td>9.618519e+60</td>\n",
       "      <td>6.138468e+72</td>\n",
       "      <td>3.811291e+84</td>\n",
       "      <td>2.325883e+96</td>\n",
       "      <td>1.403373e+108</td>\n",
       "      <td>...</td>\n",
       "      <td>6.108550e+178</td>\n",
       "      <td>3.596242e+190</td>\n",
       "      <td>2.115352e+202</td>\n",
       "      <td>1.243457e+214</td>\n",
       "      <td>7.305706e+225</td>\n",
       "      <td>4.290698e+237</td>\n",
       "      <td>2.519227e+249</td>\n",
       "      <td>1.478801e+261</td>\n",
       "      <td>8.679170e+272</td>\n",
       "      <td>5.093187e+284</td>\n",
       "    </tr>\n",
       "    <tr>\n",
       "      <th>25</th>\n",
       "      <td>1.0</td>\n",
       "      <td>5.742461e+13</td>\n",
       "      <td>2.818993e+26</td>\n",
       "      <td>8.121881e+38</td>\n",
       "      <td>1.926501e+51</td>\n",
       "      <td>4.171553e+63</td>\n",
       "      <td>8.599363e+75</td>\n",
       "      <td>1.721912e+88</td>\n",
       "      <td>3.385358e+100</td>\n",
       "      <td>6.575820e+112</td>\n",
       "      <td>...</td>\n",
       "      <td>3.161960e+186</td>\n",
       "      <td>5.981172e+198</td>\n",
       "      <td>1.130305e+211</td>\n",
       "      <td>2.134442e+223</td>\n",
       "      <td>4.028348e+235</td>\n",
       "      <td>7.599416e+247</td>\n",
       "      <td>1.433137e+260</td>\n",
       "      <td>2.701981e+272</td>\n",
       "      <td>5.093187e+284</td>\n",
       "      <td>9.599077e+296</td>\n",
       "    </tr>\n",
       "  </tbody>\n",
       "</table>\n",
       "<p>25 rows × 25 columns</p>\n",
       "</div>"
      ],
      "text/plain": [
       "     1             2             3             4             5             6   \\\n",
       "1   1.0  1.000000e+00  1.000000e+00  1.000000e+00  1.000000e+00  1.000000e+00   \n",
       "2   1.0  4.000000e+00  1.500000e+01  5.600000e+01  2.090000e+02  7.800000e+02   \n",
       "3   1.0  1.500000e+01  1.920000e+02  2.415000e+03  3.030500e+04  3.801600e+05   \n",
       "4   1.0  5.600000e+01  2.415000e+03  1.003520e+05  4.140081e+06  1.705376e+08   \n",
       "5   1.0  2.090000e+02  3.030500e+04  4.140081e+06  5.575680e+08  7.479519e+10   \n",
       "6   1.0  7.800000e+02  3.801600e+05  1.705376e+08  7.479519e+10  3.256554e+13   \n",
       "7   1.0  2.911000e+03  4.768673e+06  7.022360e+09  1.002199e+13  1.414326e+16   \n",
       "8   1.0  1.086400e+04  5.981714e+07  2.891430e+11  1.342421e+15  6.136974e+18   \n",
       "9   1.0  4.054500e+04  7.503316e+08  1.190515e+13  1.797963e+17  2.662079e+21   \n",
       "10  1.0  1.513160e+05  9.411975e+09  4.901799e+14  2.408019e+19  1.154618e+24   \n",
       "11  1.0  5.647190e+05  1.180615e+11  2.018253e+16  3.225041e+21  5.007694e+26   \n",
       "12  1.0  2.107560e+06  1.480935e+12  8.309899e+17  4.319262e+23  2.171856e+29   \n",
       "13  1.0  7.865521e+06  1.857648e+13  3.421494e+19  5.784736e+25  9.419370e+31   \n",
       "14  1.0  2.935452e+07  2.330188e+14  1.408756e+21  7.747425e+27  4.085187e+34   \n",
       "15  1.0  1.095526e+08  2.922931e+15  5.800373e+22  1.037603e+30  1.771747e+37   \n",
       "16  1.0  4.088558e+08  3.666452e+16  2.388229e+24  1.389649e+32  7.684071e+39   \n",
       "17  1.0  1.525871e+09  4.599108e+17  9.833227e+25  1.861139e+34  3.332583e+42   \n",
       "18  1.0  5.694626e+09  5.769008e+18  4.048705e+27  2.492600e+36  1.445342e+45   \n",
       "19  1.0  2.125263e+10  7.236502e+19  1.667002e+29  3.338308e+38  6.268450e+47   \n",
       "20  1.0  7.931591e+10  9.077290e+20  6.863668e+30  4.470954e+40  2.718628e+50   \n",
       "21  1.0  2.960110e+11  1.138633e+22  2.826027e+32  5.987893e+42  1.179070e+53   \n",
       "22  1.0  1.104728e+12  1.428273e+23  1.163580e+34  8.019510e+44  5.113627e+55   \n",
       "23  1.0  4.122902e+12  1.791591e+24  4.790893e+35  1.074043e+47  2.217781e+58   \n",
       "24  1.0  1.538688e+13  2.247328e+25  1.972589e+37  1.438452e+49  9.618519e+60   \n",
       "25  1.0  5.742461e+13  2.818993e+26  8.121881e+38  1.926501e+51  4.171553e+63   \n",
       "\n",
       "              7             8              9              10  ...  \\\n",
       "1   1.000000e+00  1.000000e+00   1.000000e+00   1.000000e+00  ...   \n",
       "2   2.911000e+03  1.086400e+04   4.054500e+04   1.513160e+05  ...   \n",
       "3   4.768673e+06  5.981714e+07   7.503316e+08   9.411975e+09  ...   \n",
       "4   7.022360e+09  2.891430e+11   1.190515e+13   4.901799e+14  ...   \n",
       "5   1.002199e+13  1.342421e+15   1.797963e+17   2.408019e+19  ...   \n",
       "6   1.414326e+16  6.136974e+18   2.662079e+21   1.154618e+24  ...   \n",
       "7   1.987237e+19  2.787318e+22   3.906713e+25   5.474042e+28  ...   \n",
       "8   2.787318e+22  1.262313e+26   5.709297e+29   2.580716e+33  ...   \n",
       "9   3.906713e+25  5.709297e+29   8.326628e+33   1.213164e+38  ...   \n",
       "10  5.474042e+28  2.580716e+33   1.213164e+38   5.694319e+42  ...   \n",
       "11  7.669229e+31  1.166218e+37   1.766659e+42   2.670648e+47  ...   \n",
       "12  1.074418e+35  5.269447e+40   2.572040e+46   1.252006e+52  ...   \n",
       "13  1.505172e+38  2.380813e+44   3.744112e+50   5.868094e+56  ...   \n",
       "14  2.108604e+41  1.075658e+48   5.449953e+54   2.750014e+61  ...   \n",
       "15  2.953945e+44  4.859791e+51   7.932738e+58   1.288678e+66  ...   \n",
       "16  4.138179e+47  2.195627e+55   1.154640e+63   6.038635e+70  ...   \n",
       "17  5.797166e+50  9.919700e+58   1.680610e+67   2.829599e+75  ...   \n",
       "18  8.121235e+53  4.481650e+62   2.446163e+71   1.325888e+80  ...   \n",
       "19  1.137702e+57  2.024776e+66   3.560435e+75   6.212784e+84  ...   \n",
       "20  1.593803e+60  9.147789e+69   5.182273e+79   2.911149e+89  ...   \n",
       "21  2.232755e+63  4.132902e+73   7.542881e+83   1.364087e+94  ...   \n",
       "22  3.127860e+66  1.867214e+77   1.097878e+88   6.391742e+98  ...   \n",
       "23  4.381811e+69  8.435932e+80   1.597979e+92  2.994996e+103  ...   \n",
       "24  6.138468e+72  3.811291e+84   2.325883e+96  1.403373e+108  ...   \n",
       "25  8.599363e+75  1.721912e+88  3.385358e+100  6.575820e+112  ...   \n",
       "\n",
       "               16             17             18             19             20  \\\n",
       "1    1.000000e+00   1.000000e+00   1.000000e+00   1.000000e+00   1.000000e+00   \n",
       "2    4.088558e+08   1.525871e+09   5.694626e+09   2.125263e+10   7.931591e+10   \n",
       "3    3.666452e+16   4.599108e+17   5.769008e+18   7.236502e+19   9.077290e+20   \n",
       "4    2.388229e+24   9.833227e+25   4.048705e+27   1.667002e+29   6.863668e+30   \n",
       "5    1.389649e+32   1.861139e+34   2.492600e+36   3.338308e+38   4.470954e+40   \n",
       "6    7.684071e+39   3.332583e+42   1.445342e+45   6.268450e+47   2.718628e+50   \n",
       "7    4.138179e+47   5.797166e+50   8.121235e+53   1.137702e+57   1.593803e+60   \n",
       "8    2.195627e+55   9.919700e+58   4.481650e+62   2.024776e+66   9.147789e+69   \n",
       "9    1.154640e+63   1.680610e+67   2.446163e+71   3.560435e+75   5.182273e+79   \n",
       "10   6.038635e+70   2.829599e+75   1.325888e+80   6.212784e+84   2.911149e+89   \n",
       "11   3.147049e+78   4.744942e+83   7.154001e+88   1.078603e+94   1.626191e+99   \n",
       "12   1.636352e+86   7.935627e+91   3.848297e+97  1.866146e+103  9.049333e+108   \n",
       "13   8.495671e+93  1.324825e+100  2.065809e+106  3.221101e+112  5.022354e+118   \n",
       "14  4.406421e+101  2.209088e+108  1.107377e+115  5.550725e+121  2.782184e+128   \n",
       "15  2.283945e+109  3.680543e+116  5.930267e+123  9.554204e+130  1.539172e+138   \n",
       "16  1.183291e+117  6.128690e+124  3.173628e+132  1.643181e+140  8.506972e+147   \n",
       "17  6.128690e+124  1.020132e+133  1.697580e+141  2.824393e+149  4.698567e+157   \n",
       "18  3.173628e+132  1.697580e+141  9.077353e+149  4.852728e+158  2.593825e+167   \n",
       "19  1.643181e+140  2.824393e+149  4.852728e+158  8.335254e+167  1.431397e+177   \n",
       "20  8.506972e+147  4.698567e+157  2.593825e+167  1.431397e+177  7.897079e+186   \n",
       "21  4.403902e+155  7.815700e+165  1.386261e+176  2.457741e+186  4.356024e+196   \n",
       "22  2.279723e+163  1.300003e+174  7.408214e+184  4.219538e+195  2.402448e+206   \n",
       "23  1.180088e+171  2.162235e+182  3.958740e+193  7.243693e+204  1.324873e+216   \n",
       "24  6.108550e+178  3.596242e+190  2.115352e+202  1.243457e+214  7.305706e+225   \n",
       "25  3.161960e+186  5.981172e+198  1.130305e+211  2.134442e+223  4.028348e+235   \n",
       "\n",
       "               21             22             23             24             25  \n",
       "1    1.000000e+00   1.000000e+00   1.000000e+00   1.000000e+00   1.000000e+00  \n",
       "2    2.960110e+11   1.104728e+12   4.122902e+12   1.538688e+13   5.742461e+13  \n",
       "3    1.138633e+22   1.428273e+23   1.791591e+24   2.247328e+25   2.818993e+26  \n",
       "4    2.826027e+32   1.163580e+34   4.790893e+35   1.972589e+37   8.121881e+38  \n",
       "5    5.987893e+42   8.019510e+44   1.074043e+47   1.438452e+49   1.926501e+51  \n",
       "6    1.179070e+53   5.113627e+55   2.217781e+58   9.618519e+60   4.171553e+63  \n",
       "7    2.232755e+63   3.127860e+66   4.381811e+69   6.138468e+72   8.599363e+75  \n",
       "8    4.132902e+73   1.867214e+77   8.435932e+80   3.811291e+84   1.721912e+88  \n",
       "9    7.542881e+83   1.097878e+88   1.597979e+92   2.325883e+96  3.385358e+100  \n",
       "10   1.364087e+94   6.391742e+98  2.994996e+103  1.403373e+108  6.575820e+112  \n",
       "11  2.451770e+104  3.696468e+109  5.573058e+114  8.402332e+119  1.266794e+125  \n",
       "12  4.388175e+114  2.127890e+120  1.031842e+126  5.003527e+131  2.426269e+137  \n",
       "13  7.830753e+124  1.220943e+131  1.903641e+137  2.968061e+143  4.627641e+149  \n",
       "14  1.394474e+135  6.989199e+141  3.502997e+148  1.755695e+155  8.799469e+161  \n",
       "15  2.479484e+145  3.994144e+152  6.433957e+159  1.036400e+167  1.669449e+174  \n",
       "16  4.403902e+155  2.279723e+163  1.180088e+171  6.108550e+178  3.161960e+186  \n",
       "17  7.815700e+165  1.300003e+174  2.162235e+182  3.596242e+190  5.981172e+198  \n",
       "18  1.386261e+176  7.408214e+184  3.958740e+193  2.115352e+202  1.130305e+211  \n",
       "19  2.457741e+186  4.219538e+195  7.243693e+204  1.243457e+214  2.134442e+223  \n",
       "20  4.356024e+196  2.402448e+206  1.324873e+216  7.305706e+225  4.028348e+235  \n",
       "21  7.718688e+206  1.367483e+217  2.422397e+227  4.290698e+237  7.599416e+247  \n",
       "22  1.367483e+217  7.782145e+227  4.428012e+238  2.519227e+249  1.433137e+260  \n",
       "23  2.422397e+227  4.428012e+238  8.092642e+249  1.478801e+261  2.701981e+272  \n",
       "24  4.290698e+237  2.519227e+249  1.478801e+261  8.679170e+272  5.093187e+284  \n",
       "25  7.599416e+247  1.433137e+260  2.701981e+272  5.093187e+284  9.599077e+296  \n",
       "\n",
       "[25 rows x 25 columns]"
      ]
     },
     "execution_count": 70,
     "metadata": {},
     "output_type": "execute_result"
    }
   ],
   "source": [
    "tableau((25, 25))"
   ]
  },
  {
   "cell_type": "markdown",
   "id": "afea2e87",
   "metadata": {},
   "source": [
    "## Sortir d'un labyrinthe"
   ]
  },
  {
   "cell_type": "code",
   "execution_count": 76,
   "id": "4cce1407",
   "metadata": {},
   "outputs": [],
   "source": [
    "def solution_labyrinthe(l_murs, i, j, last, d):\n",
    "    # mur -> [h, d, b, g]\n",
    "    taille = (len(l_murs), len(l_murs[0]))\n",
    "    d += 1\n",
    "\n",
    "    if i == taille[0] - 1 and j == taille[1] - 1:\n",
    "        global s\n",
    "        s = d\n",
    "        return\n",
    "    else:\n",
    "        if l_murs[i, j, 1] == 0 and last != 3:\n",
    "            solution_labyrinthe(l_murs, i, j+1, 1, d)\n",
    "        if l_murs[i, j, 0] == 0 and last != 2:\n",
    "            solution_labyrinthe(l_murs, i+1, j, 0, d)\n",
    "        if l_murs[i, j, 3] == 0 and last != 1:\n",
    "            solution_labyrinthe(l_murs, i, j-1, 3, d)\n",
    "        if l_murs[i, j, 2] == 0 and last != 0:\n",
    "            solution_labyrinthe(l_murs, i-1, j, 2, d)\n",
    "            "
   ]
  },
  {
   "cell_type": "code",
   "execution_count": 77,
   "id": "4c173e81",
   "metadata": {},
   "outputs": [
    {
     "data": {
      "text/plain": [
       "[{'Moyen': 1, 'Court': 1, 'Long': 1},\n",
       " {'Moyen': 3, 'Court': 3, 'Long': 3},\n",
       " {'Moyen': 6, 'Court': 5, 'Long': 9},\n",
       " {'Moyen': 9, 'Court': 7, 'Long': 15},\n",
       " {'Moyen': 12, 'Court': 9, 'Long': 21},\n",
       " {'Moyen': 16, 'Court': 11, 'Long': 33},\n",
       " {'Moyen': 21, 'Court': 13, 'Long': 39},\n",
       " {'Moyen': 24, 'Court': 15, 'Long': 49},\n",
       " {'Moyen': 30, 'Court': 17, 'Long': 59}]"
      ]
     },
     "execution_count": 77,
     "metadata": {},
     "output_type": "execute_result"
    }
   ],
   "source": [
    "resultats = []\n",
    "for j in range(1, 10):\n",
    "    mini = 0\n",
    "    maxi = 0\n",
    "    taille = (j, j)\n",
    "    v = [] \n",
    "    for i in range (0, 100):\n",
    "        s = 0\n",
    "        cases, murs, l = labyrinthe_generator(taille, 2)\n",
    "        solution_labyrinthe(murs, 0, 0, -1, 0)\n",
    "        if s > maxi:\n",
    "            maxi = s\n",
    "        if s < mini or mini == 0:\n",
    "            mini = s\n",
    "        v.append(s)\n",
    "    resultats.append({ \"Moyen\":(sum(v)/len(v)).round(), \"Court\":mini, \"Long\":maxi})\n",
    "resultats"
   ]
  },
  {
   "cell_type": "code",
   "execution_count": null,
   "id": "d54ee329",
   "metadata": {},
   "outputs": [],
   "source": []
  }
 ],
 "metadata": {
  "celltoolbar": "Format de la Cellule Texte Brut",
  "kernelspec": {
   "display_name": "SageMath 9.3",
   "language": "sage",
   "name": "sagemath"
  },
  "language_info": {
   "codemirror_mode": {
    "name": "ipython",
    "version": 3
   },
   "file_extension": ".py",
   "mimetype": "text/x-python",
   "name": "python",
   "nbconvert_exporter": "python",
   "pygments_lexer": "ipython3",
   "version": "3.9.7"
  },
  "toc": {
   "base_numbering": 1,
   "nav_menu": {},
   "number_sections": true,
   "sideBar": true,
   "skip_h1_title": false,
   "title_cell": "Table of Contents",
   "title_sidebar": "Contents",
   "toc_cell": false,
   "toc_position": {},
   "toc_section_display": true,
   "toc_window_display": false
  },
  "varInspector": {
   "cols": {
    "lenName": 16,
    "lenType": 16,
    "lenVar": 40
   },
   "kernels_config": {
    "python": {
     "delete_cmd_postfix": "",
     "delete_cmd_prefix": "del ",
     "library": "var_list.py",
     "varRefreshCmd": "print(var_dic_list())"
    },
    "r": {
     "delete_cmd_postfix": ") ",
     "delete_cmd_prefix": "rm(",
     "library": "var_list.r",
     "varRefreshCmd": "cat(var_dic_list()) "
    }
   },
   "types_to_exclude": [
    "module",
    "function",
    "builtin_function_or_method",
    "instance",
    "_Feature"
   ],
   "window_display": false
  }
 },
 "nbformat": 4,
 "nbformat_minor": 5
}
